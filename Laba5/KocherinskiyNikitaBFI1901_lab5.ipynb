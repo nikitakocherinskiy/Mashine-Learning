{
 "cells": [
  {
   "cell_type": "markdown",
   "id": "9cd87b61",
   "metadata": {},
   "source": [
    "# Лабораторная работа №5"
   ]
  },
  {
   "cell_type": "markdown",
   "id": "315fc04e",
   "metadata": {},
   "source": [
    "### Распознавание объектов на фотографиях"
   ]
  },
  {
   "cell_type": "markdown",
   "id": "f40bc500",
   "metadata": {},
   "source": [
    "##### Задачи"
   ]
  },
  {
   "cell_type": "markdown",
   "id": "8ba512c2",
   "metadata": {},
   "source": [
    "1. Ознакомиться со сверточными нейронными сетями\n",
    "2. Изучить построение модели в Keras в функциональном виде\n",
    "3. Изучить работу слоя разреживания (Dropout)"
   ]
  },
  {
   "cell_type": "markdown",
   "id": "c05f29ba",
   "metadata": {},
   "source": [
    "### Цель работы"
   ]
  },
  {
   "cell_type": "markdown",
   "id": "c4289f70",
   "metadata": {},
   "source": [
    "Распознавание объектов на фотографиях (Object Recognition in Photographs) CIFAR-10 (классификация небольших изображений по десяти классам: самолет, автомобиль, птица, кошка, олень, собака, лягушка, лошадь, корабль и грузовик)."
   ]
  },
  {
   "cell_type": "code",
   "execution_count": 1,
   "id": "00dfd373",
   "metadata": {},
   "outputs": [],
   "source": [
    "from keras.datasets import cifar10\n",
    "from keras.models import Model\n",
    "from keras.layers import Input, Convolution2D, MaxPooling2D, Dense, Dropout, Flatten\n",
    "from keras.utils import np_utils\n",
    "import numpy as np"
   ]
  },
  {
   "cell_type": "code",
   "execution_count": 2,
   "id": "9fb8337c",
   "metadata": {},
   "outputs": [
    {
     "name": "stdout",
     "output_type": "stream",
     "text": [
      "313/313 [==============================] - 1s 2ms/step - loss: 558.5317 - accuracy: 0.2041\n"
     ]
    },
    {
     "data": {
      "text/plain": [
       "[558.5316772460938, 0.20409999787807465]"
      ]
     },
     "execution_count": 2,
     "metadata": {},
     "output_type": "execute_result"
    }
   ],
   "source": [
    "batch_size = 32 \n",
    "num_epochs = 200 \n",
    "kernel_size = 3 # использование ядра 3x3 \n",
    "pool_size = 2 #   использование объединения 2х2 \n",
    "conv_depth_1 = 32 #  32 ядра на слой преобразования\n",
    "conv_depth_2 = 64 # переход на 64 после первого уровня объединения\n",
    "drop_prob_1 = 0.25 #  вероятность 0,25\n",
    "drop_prob_2 = 0.5 #  в плотном слое вероятность 0,5\n",
    "hidden_size = 512 # в плотном слое 512 нейронов\n",
    "\n",
    "(X_train, y_train), (X_test, y_test) = cifar10.load_data() \n",
    "num_train, depth, height, width = X_train.shape \n",
    "num_test = X_test.shape[0] \n",
    "num_classes = np.unique(y_train).shape[0]\n",
    "X_train = X_train.astype('float32')\n",
    "X_test = X_test.astype('float32')\n",
    "X_train /= np.max(X_train)\n",
    "X_test /= np.max(X_train) \n",
    "\n",
    "Y_train = np_utils.to_categorical(y_train, num_classes) \n",
    "Y_test = np_utils.to_categorical(y_test, num_classes) \n",
    "\n",
    "\n",
    "inp = Input(shape=(depth, height, width)) # N.B. глубина занимает первое место в Керасе\n",
    "# Conv [32] -> Conv [32] -> Pool (with dropout on the pooling layer)\n",
    "conv_1 = Convolution2D(conv_depth_1, kernel_size, kernel_size,\n",
    "padding='same', activation='relu')(inp) #устарело\n",
    "conv_2 = Convolution2D(conv_depth_1, kernel_size, kernel_size,\n",
    "padding='same', activation='relu')(conv_1)\n",
    "pool_1 = MaxPooling2D(pool_size=(pool_size, pool_size))(conv_2)\n",
    "drop_1 = Dropout(drop_prob_1)(pool_1)  #Для предотвращения переобучения\n",
    "# Conv [64] -> Conv [64] -> Pool (with dropout on the pooling layer)\n",
    "conv_3 = Convolution2D(conv_depth_2, kernel_size, kernel_size,\n",
    "padding='same', activation='relu')(drop_1)\n",
    "conv_4 = Convolution2D(conv_depth_2, kernel_size, kernel_size,\n",
    "padding='same', activation='relu')(conv_3)\n",
    "pool_2 = MaxPooling2D(pool_size=(pool_size, pool_size),padding='same')(conv_4) # padding - сохранять\n",
    "#размер исходного изображения, рисунок дополняется нулями по краям. \n",
    "drop_2 = Dropout(drop_prob_1)(pool_2)\n",
    "#Теперь выровняйте до 1D, примените Плотный -> ReLU (с выпадением) -> softmax\n",
    "flat = Flatten()(drop_2)\n",
    "hidden = Dense(hidden_size, activation='relu')(flat)\n",
    " \n",
    "drop_3 = Dropout(drop_prob_2)(hidden)\n",
    "out = Dense(num_classes, activation='softmax')(drop_3)\n",
    "model = Model(inputs=inp, outputs=out) # Чтобы определить модель, просто укажите ее входные и выходные слои\n",
    "model.compile(loss='categorical_crossentropy', optimizer='adam', metrics=['accuracy']) \n",
    "model.fit(X_train, Y_train, batch_size=batch_size, epochs=num_epochs, verbose=0, validation_split=0.1) # \n",
    "model.evaluate(X_test, Y_test, verbose=1) "
   ]
  },
  {
   "cell_type": "markdown",
   "id": "6f7cc189",
   "metadata": {},
   "source": [
    "Без слоя DropOut"
   ]
  },
  {
   "cell_type": "code",
   "execution_count": 3,
   "id": "324b5a0f",
   "metadata": {},
   "outputs": [
    {
     "name": "stdout",
     "output_type": "stream",
     "text": [
      "313/313 [==============================] - 1s 2ms/step - loss: 3493.9905 - accuracy: 0.2157\n"
     ]
    },
    {
     "data": {
      "text/plain": [
       "[3493.990478515625, 0.21570000052452087]"
      ]
     },
     "execution_count": 3,
     "metadata": {},
     "output_type": "execute_result"
    }
   ],
   "source": [
    "batch_size = 32 \n",
    "num_epochs = 200 \n",
    "kernel_size = 3 # использование ядра 3x3 \n",
    "pool_size = 2 #   использование объединения 2х2 \n",
    "conv_depth_1 = 32 #  32 ядра на слой преобразования\n",
    "conv_depth_2 = 64 # переход на 64 после первого уровня объединения\n",
    "drop_prob_1 = 0.25 #  вероятность 0,25\n",
    "drop_prob_2 = 0.5 #  в плотном слое вероятность 0,5\n",
    "hidden_size = 512 # в плотном слое 512 нейронов\n",
    "\n",
    "(X_train, y_train), (X_test, y_test) = cifar10.load_data() \n",
    "num_train, depth, height, width = X_train.shape \n",
    "num_test = X_test.shape[0] \n",
    "num_classes = np.unique(y_train).shape[0]\n",
    "X_train = X_train.astype('float32')\n",
    "X_test = X_test.astype('float32')\n",
    "X_train /= np.max(X_train)\n",
    "X_test /= np.max(X_train) \n",
    "\n",
    "Y_train = np_utils.to_categorical(y_train, num_classes) \n",
    "Y_test = np_utils.to_categorical(y_test, num_classes) \n",
    "\n",
    "\n",
    "inp = Input(shape=(depth, height, width)) # N.B. глубина занимает первое место в Керасе\n",
    "# Conv [32] -> Conv [32] -> Pool (with dropout on the pooling layer)\n",
    "conv_1 = Convolution2D(conv_depth_1, kernel_size, kernel_size,\n",
    "padding='same', activation='relu')(inp) #устарело\n",
    "conv_2 = Convolution2D(conv_depth_1, kernel_size, kernel_size,\n",
    "padding='same', activation='relu')(conv_1)\n",
    "pool_1 = MaxPooling2D(pool_size=(pool_size, pool_size))(conv_2)\n",
    "#drop_1 = Dropout(drop_prob_1)(pool_1)  #Для предотвращения переобучения\n",
    "# Conv [64] -> Conv [64] -> Pool (with dropout on the pooling layer)\n",
    "conv_3 = Convolution2D(conv_depth_2, kernel_size, kernel_size,\n",
    "padding='same', activation='relu')(pool_1)\n",
    "conv_4 = Convolution2D(conv_depth_2, kernel_size, kernel_size,\n",
    "padding='same', activation='relu')(conv_3)\n",
    "pool_2 = MaxPooling2D(pool_size=(pool_size, pool_size),padding='same')(conv_4) # padding - сохранять\n",
    "#размер исходного изображения, рисунок дополняется нулями по краям. \n",
    "#drop_2 = Dropout(drop_prob_1)(pool_2)\n",
    "#Теперь выровняйте до 1D, примените Плотный -> ReLU (с выпадением) -> softmax\n",
    "flat = Flatten()(pool_2)\n",
    "hidden = Dense(hidden_size, activation='relu')(flat)\n",
    "\n",
    "#drop_3 = Dropout(drop_prob_2)(hidden)\n",
    "out = Dense(num_classes, activation='softmax')(hidden)\n",
    "model = Model(inputs=inp, outputs=out) # Чтобы определить модель, просто укажите ее входные и выходные слои\n",
    "model.compile(loss='categorical_crossentropy', optimizer='adam', metrics=['accuracy']) \n",
    "model.fit(X_train, Y_train, batch_size=batch_size, epochs=num_epochs, verbose=0, validation_split=0.1) # \n",
    "model.evaluate(X_test, Y_test, verbose=1) "
   ]
  },
  {
   "cell_type": "code",
   "execution_count": 4,
   "id": "453a7484",
   "metadata": {},
   "outputs": [
    {
     "name": "stdout",
     "output_type": "stream",
     "text": [
      "313/313 [==============================] - 1s 2ms/step - loss: 269.1863 - accuracy: 0.2174\n"
     ]
    },
    {
     "data": {
      "text/plain": [
       "[269.1863098144531, 0.21739999949932098]"
      ]
     },
     "execution_count": 4,
     "metadata": {},
     "output_type": "execute_result"
    }
   ],
   "source": [
    "batch_size = 32 \n",
    "num_epochs = 200 \n",
    "kernel_size = 3 \n",
    "pool_size = 2 \n",
    "conv_depth_1 = 16 \n",
    "conv_depth_2 = 32 \n",
    "drop_prob_1 = 0.25 \n",
    "drop_prob_2 = 0.5 \n",
    "hidden_size = 512 \n",
    "\n",
    "(X_train, y_train), (X_test, y_test) = cifar10.load_data() \n",
    "num_train, depth, height, width = X_train.shape \n",
    "num_test = X_test.shape[0] \n",
    "num_classes = np.unique(y_train).shape[0]\n",
    "X_train = X_train.astype('float32')\n",
    "X_test = X_test.astype('float32')\n",
    "X_train /= np.max(X_train)\n",
    "X_test /= np.max(X_train) \n",
    "\n",
    "Y_train = np_utils.to_categorical(y_train, num_classes) \n",
    "Y_test = np_utils.to_categorical(y_test, num_classes) \n",
    "\n",
    "\n",
    "inp = Input(shape=(depth, height, width)) # N.B. глубина занимает первое место в Керасе\n",
    "# Conv [32] -> Conv [32] -> Pool (with dropout on the pooling layer)\n",
    "conv_1 = Convolution2D(conv_depth_1, kernel_size, kernel_size,\n",
    "padding='same', activation='relu')(inp) #устарело\n",
    "conv_2 = Convolution2D(conv_depth_1, kernel_size, kernel_size,\n",
    "padding='same', activation='relu')(conv_1)\n",
    "pool_1 = MaxPooling2D(pool_size=(pool_size, pool_size))(conv_2)\n",
    "drop_1 = Dropout(drop_prob_1)(pool_1)  #Для предотвращения переобучения\n",
    "# Conv [64] -> Conv [64] -> Pool (with dropout on the pooling layer)\n",
    "conv_3 = Convolution2D(conv_depth_2, kernel_size, kernel_size,\n",
    "padding='same', activation='relu')(drop_1)\n",
    "conv_4 = Convolution2D(conv_depth_2, kernel_size, kernel_size,\n",
    "padding='same', activation='relu')(conv_3)\n",
    "pool_2 = MaxPooling2D(pool_size=(pool_size, pool_size),padding='same')(conv_4) # padding - сохранять\n",
    "#размер исходного изображения, рисунок дополняется нулями по краям. \n",
    "drop_2 = Dropout(drop_prob_1)(pool_2)\n",
    "#Теперь выровняйте до 1D, примените Плотный -> ReLU (с выпадением) -> softmax\n",
    "flat = Flatten()(drop_2)\n",
    "hidden = Dense(hidden_size, activation='relu')(flat)\n",
    "\n",
    "drop_3 = Dropout(drop_prob_2)(hidden)\n",
    "out = Dense(num_classes, activation='softmax')(drop_3)\n",
    "model = Model(inputs=inp, outputs=out) # Чтобы определить модель, просто укажите ее входные и выходные слои\n",
    "model.compile(loss='categorical_crossentropy', optimizer='adam', metrics=['accuracy']) \n",
    "model.fit(X_train, Y_train, batch_size=batch_size, epochs=num_epochs, verbose=0, validation_split=0.1) # \n",
    "model.evaluate(X_test, Y_test, verbose=1) "
   ]
  },
  {
   "cell_type": "code",
   "execution_count": 5,
   "id": "df94901e",
   "metadata": {},
   "outputs": [
    {
     "name": "stdout",
     "output_type": "stream",
     "text": [
      "313/313 [==============================] - 2s 6ms/step - loss: 625.1826 - accuracy: 0.2587\n"
     ]
    },
    {
     "data": {
      "text/plain": [
       "[625.1825561523438, 0.25870001316070557]"
      ]
     },
     "execution_count": 5,
     "metadata": {},
     "output_type": "execute_result"
    }
   ],
   "source": [
    "batch_size = 32 \n",
    "num_epochs = 200 \n",
    "kernel_size = 3 # использование ядра 3x3 \n",
    "pool_size = 2 #   использование объединения 2х2 \n",
    "conv_depth_1 = 128 #  32 ядра на слой преобразования\n",
    "conv_depth_2 = 256 # переход на 64 после первого уровня объединения\n",
    "drop_prob_1 = 0.25 #  вероятность 0,25\n",
    "drop_prob_2 = 0.5 #  в плотном слое вероятность 0,5\n",
    "hidden_size = 512 # в плотном слое 512 нейронов\n",
    "\n",
    "(X_train, y_train), (X_test, y_test) = cifar10.load_data() \n",
    "num_train, depth, height, width = X_train.shape \n",
    "num_test = X_test.shape[0] \n",
    "num_classes = np.unique(y_train).shape[0]\n",
    "X_train = X_train.astype('float32')\n",
    "X_test = X_test.astype('float32')\n",
    "X_train /= np.max(X_train)\n",
    "X_test /= np.max(X_train) \n",
    "\n",
    "Y_train = np_utils.to_categorical(y_train, num_classes) \n",
    "Y_test = np_utils.to_categorical(y_test, num_classes) \n",
    "\n",
    "\n",
    "inp = Input(shape=(depth, height, width)) # N.B. глубина занимает первое место в Керасе\n",
    "# Conv [32] -> Conv [32] -> Pool (with dropout on the pooling layer)\n",
    "conv_1 = Convolution2D(conv_depth_1, kernel_size, kernel_size,\n",
    "padding='same', activation='relu')(inp) #устарело\n",
    "conv_2 = Convolution2D(conv_depth_1, kernel_size, kernel_size,\n",
    "padding='same', activation='relu')(conv_1)\n",
    "pool_1 = MaxPooling2D(pool_size=(pool_size, pool_size))(conv_2)\n",
    "drop_1 = Dropout(drop_prob_1)(pool_1)  #Для предотвращения переобучения\n",
    "# Conv [64] -> Conv [64] -> Pool (with dropout on the pooling layer)\n",
    "conv_3 = Convolution2D(conv_depth_2, kernel_size, kernel_size,\n",
    "padding='same', activation='relu')(drop_1)\n",
    "conv_4 = Convolution2D(conv_depth_2, kernel_size, kernel_size,\n",
    "padding='same', activation='relu')(conv_3)\n",
    "pool_2 = MaxPooling2D(pool_size=(pool_size, pool_size),padding='same')(conv_4) # padding - сохранять\n",
    "#размер исходного изображения, рисунок дополняется нулями по краям. \n",
    "drop_2 = Dropout(drop_prob_1)(pool_2)\n",
    "#Теперь выровняйте до 1D, примените Плотный -> ReLU (с выпадением) -> softmax\n",
    "flat = Flatten()(drop_2)\n",
    "hidden = Dense(hidden_size, activation='relu')(flat)\n",
    "\n",
    "drop_3 = Dropout(drop_prob_2)(hidden)\n",
    "out = Dense(num_classes, activation='softmax')(drop_3)\n",
    "model = Model(inputs=inp, outputs=out) # Чтобы определить модель, просто укажите ее входные и выходные слои\n",
    "model.compile(loss='categorical_crossentropy', optimizer='adam', metrics=['accuracy']) \n",
    "model.fit(X_train, Y_train, batch_size=batch_size, epochs=num_epochs, verbose=0, validation_split=0.1) # \n",
    "model.evaluate(X_test, Y_test, verbose=1) "
   ]
  },
  {
   "cell_type": "code",
   "execution_count": 6,
   "id": "6b92c525",
   "metadata": {},
   "outputs": [
    {
     "name": "stdout",
     "output_type": "stream",
     "text": [
      "313/313 [==============================] - 3s 11ms/step - loss: 7567.1392 - accuracy: 0.1015\n"
     ]
    },
    {
     "data": {
      "text/plain": [
       "[7567.13916015625, 0.1014999970793724]"
      ]
     },
     "execution_count": 6,
     "metadata": {},
     "output_type": "execute_result"
    }
   ],
   "source": [
    "batch_size = 32 \n",
    "num_epochs = 200 \n",
    "kernel_size = 1 # использование ядра 3x3 \n",
    "pool_size = 2 #   использование объединения 2х2 \n",
    "conv_depth_1 = 32 #  32 ядра на слой преобразования\n",
    "conv_depth_2 = 64 # переход на 64 после первого уровня объединения\n",
    "drop_prob_1 = 0.25 #  вероятность 0,25\n",
    "drop_prob_2 = 0.5 #  в плотном слое вероятность 0,5\n",
    "hidden_size = 512 # в плотном слое 512 нейронов\n",
    "\n",
    "(X_train, y_train), (X_test, y_test) = cifar10.load_data() \n",
    "num_train, depth, height, width = X_train.shape \n",
    "num_test = X_test.shape[0] \n",
    "num_classes = np.unique(y_train).shape[0]\n",
    "X_train = X_train.astype('float32')\n",
    "X_test = X_test.astype('float32')\n",
    "X_train /= np.max(X_train)\n",
    "X_test /= np.max(X_train) \n",
    "\n",
    "Y_train = np_utils.to_categorical(y_train, num_classes) \n",
    "Y_test = np_utils.to_categorical(y_test, num_classes) \n",
    "\n",
    "\n",
    "inp = Input(shape=(depth, height, width)) # N.B. глубина занимает первое место в Керасе\n",
    "# Conv [32] -> Conv [32] -> Pool (with dropout on the pooling layer)\n",
    "conv_1 = Convolution2D(conv_depth_1, kernel_size, kernel_size,\n",
    "padding='same', activation='relu')(inp) #устарело\n",
    "conv_2 = Convolution2D(conv_depth_1, kernel_size, kernel_size,\n",
    "padding='same', activation='relu')(conv_1)\n",
    "pool_1 = MaxPooling2D(pool_size=(pool_size, pool_size))(conv_2)\n",
    "drop_1 = Dropout(drop_prob_1)(pool_1)  #Для предотвращения переобучения\n",
    "# Conv [64] -> Conv [64] -> Pool (with dropout on the pooling layer)\n",
    "conv_3 = Convolution2D(conv_depth_2, kernel_size, kernel_size,\n",
    "padding='same', activation='relu')(drop_1)\n",
    "conv_4 = Convolution2D(conv_depth_2, kernel_size, kernel_size,\n",
    "padding='same', activation='relu')(conv_3)\n",
    "pool_2 = MaxPooling2D(pool_size=(pool_size, pool_size),padding='same')(conv_4) # padding - сохранять\n",
    "#размер исходного изображения, рисунок дополняется нулями по краям. \n",
    "drop_2 = Dropout(drop_prob_1)(pool_2)\n",
    "#Теперь выровняйте до 1D, примените Плотный -> ReLU (с выпадением) -> softmax\n",
    "flat = Flatten()(drop_2)\n",
    "hidden = Dense(hidden_size, activation='relu')(flat)\n",
    "\n",
    "drop_3 = Dropout(drop_prob_2)(hidden)\n",
    "out = Dense(num_classes, activation='softmax')(drop_3)\n",
    "model = Model(inputs=inp, outputs=out) # Чтобы определить модель, просто укажите ее входные и выходные слои\n",
    "model.compile(loss='categorical_crossentropy', optimizer='adam', metrics=['accuracy']) \n",
    "model.fit(X_train, Y_train, batch_size=batch_size, epochs=num_epochs, verbose=0, validation_split=0.1) # \n",
    "model.evaluate(X_test, Y_test, verbose=1) "
   ]
  },
  {
   "cell_type": "code",
   "execution_count": 7,
   "id": "b3e9c55e",
   "metadata": {},
   "outputs": [
    {
     "name": "stdout",
     "output_type": "stream",
     "text": [
      "313/313 [==============================] - 1s 3ms/step - loss: 649.9954 - accuracy: 0.2454\n"
     ]
    },
    {
     "data": {
      "text/plain": [
       "[649.9954223632812, 0.24539999663829803]"
      ]
     },
     "execution_count": 7,
     "metadata": {},
     "output_type": "execute_result"
    }
   ],
   "source": [
    "batch_size = 32 \n",
    "num_epochs = 200 \n",
    "kernel_size = 5 # использование ядра 3x3 \n",
    "pool_size = 2 #   использование объединения 2х2 \n",
    "conv_depth_1 = 32 #  32 ядра на слой преобразования\n",
    "conv_depth_2 = 64 # переход на 64 после первого уровня объединения\n",
    "drop_prob_1 = 0.25 #  вероятность 0,25\n",
    "drop_prob_2 = 0.5 #  в плотном слое вероятность 0,5\n",
    "hidden_size = 512 # в плотном слое 512 нейронов\n",
    "\n",
    "(X_train, y_train), (X_test, y_test) = cifar10.load_data() \n",
    "num_train, depth, height, width = X_train.shape \n",
    "num_test = X_test.shape[0] \n",
    "num_classes = np.unique(y_train).shape[0]\n",
    "X_train = X_train.astype('float32')\n",
    "X_test = X_test.astype('float32')\n",
    "X_train /= np.max(X_train)\n",
    "X_test /= np.max(X_train) \n",
    "\n",
    "Y_train = np_utils.to_categorical(y_train, num_classes) \n",
    "Y_test = np_utils.to_categorical(y_test, num_classes) \n",
    "\n",
    "\n",
    "inp = Input(shape=(depth, height, width)) # N.B. глубина занимает первое место в Керасе\n",
    "# Conv [32] -> Conv [32] -> Pool (with dropout on the pooling layer)\n",
    "conv_1 = Convolution2D(conv_depth_1, kernel_size, kernel_size,\n",
    "padding='same', activation='relu')(inp) #устарело\n",
    "conv_2 = Convolution2D(conv_depth_1, kernel_size, kernel_size,\n",
    "padding='same', activation='relu')(conv_1)\n",
    "pool_1 = MaxPooling2D(pool_size=(pool_size, pool_size))(conv_2)\n",
    "drop_1 = Dropout(drop_prob_1)(pool_1)  #Для предотвращения переобучения\n",
    "# Conv [64] -> Conv [64] -> Pool (with dropout on the pooling layer)\n",
    "conv_3 = Convolution2D(conv_depth_2, kernel_size, kernel_size,\n",
    "padding='same', activation='relu')(drop_1)\n",
    "conv_4 = Convolution2D(conv_depth_2, kernel_size, kernel_size,\n",
    "padding='same', activation='relu')(conv_3)\n",
    "pool_2 = MaxPooling2D(pool_size=(pool_size, pool_size),padding='same')(conv_4) # padding - сохранять\n",
    "#размер исходного изображения, рисунок дополняется нулями по краям. \n",
    "drop_2 = Dropout(drop_prob_1)(pool_2)\n",
    "#Теперь выровняйте до 1D, примените Плотный -> ReLU (с выпадением) -> softmax\n",
    "flat = Flatten()(drop_2)\n",
    "hidden = Dense(hidden_size, activation='relu')(flat)\n",
    "\n",
    "drop_3 = Dropout(drop_prob_2)(hidden)\n",
    "out = Dense(num_classes, activation='softmax')(drop_3)\n",
    "model = Model(inputs=inp, outputs=out) # Чтобы определить модель, просто укажите ее входные и выходные слои\n",
    "model.compile(loss='categorical_crossentropy', optimizer='adam', metrics=['accuracy']) \n",
    "model.fit(X_train, Y_train, batch_size=batch_size, epochs=num_epochs, verbose=0, validation_split=0.1) # \n",
    "model.evaluate(X_test, Y_test, verbose=1) "
   ]
  },
  {
   "cell_type": "code",
   "execution_count": null,
   "id": "5bc04471",
   "metadata": {},
   "outputs": [],
   "source": []
  }
 ],
 "metadata": {
  "kernelspec": {
   "display_name": "Python 3 (ipykernel)",
   "language": "python",
   "name": "python3"
  },
  "language_info": {
   "codemirror_mode": {
    "name": "ipython",
    "version": 3
   },
   "file_extension": ".py",
   "mimetype": "text/x-python",
   "name": "python",
   "nbconvert_exporter": "python",
   "pygments_lexer": "ipython3",
   "version": "3.9.7"
  }
 },
 "nbformat": 4,
 "nbformat_minor": 5
}
