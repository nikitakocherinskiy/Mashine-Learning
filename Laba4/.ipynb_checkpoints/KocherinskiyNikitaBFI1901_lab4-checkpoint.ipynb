{
 "cells": [
  {
   "cell_type": "markdown",
   "id": "1b9512c1",
   "metadata": {},
   "source": [
    "# Лабораторная работа No 4\n",
    "\n",
    "\n",
    "## Распознавание рукописных символов"
   ]
  },
  {
   "cell_type": "markdown",
   "id": "4cfa8806",
   "metadata": {},
   "source": [
    "### Цель"
   ]
  },
  {
   "cell_type": "markdown",
   "id": "12bdc0fd",
   "metadata": {},
   "source": [
    "Реализовать классификацию черно-белых изображений рукописных цифр (28x28) по 10\n",
    "категориям (от 0 до 9).\n",
    "\n",
    "Набор данных содержит 60,000 изображений для обучения и 10,000 изображений для\n",
    "тестирования."
   ]
  },
  {
   "cell_type": "markdown",
   "id": "921aa03b",
   "metadata": {},
   "source": [
    "### Задачи\n",
    "1. Ознакомиться с представлением графических данных\n",
    "2. Ознакомиться с простейшим способом передачи графических данных нейронной сети\n",
    "3. Создать модель\n",
    "4. Настроить параметры обучения\n",
    "5. Написать функцию, позволяющая загружать изображение пользователи и классифицировать его"
   ]
  },
  {
   "cell_type": "markdown",
   "id": "d3fccaa7",
   "metadata": {},
   "source": [
    "### Выполнение работы"
   ]
  },
  {
   "cell_type": "code",
   "execution_count": 1,
   "id": "8abc6a18",
   "metadata": {},
   "outputs": [],
   "source": [
    "import matplotlib.pyplot as plt\n",
    "import tensorflow as tf\n",
    "from tensorflow.keras.utils import CustomObjectScope\n",
    "from tensorflow.keras.utils import to_categorical\n",
    "from tensorflow.keras.layers import Dense, Activation, Flatten\n",
    "from tensorflow.keras.models import Sequential\n",
    "mnist = tf.keras.datasets.mnist\n",
    "(train_images, train_labels),(test_images, test_labels) = mnist.load_data()"
   ]
  },
  {
   "cell_type": "markdown",
   "id": "729e6414",
   "metadata": {},
   "source": [
    "Здесь train_images и train_labels — это тренировочный набор, то есть данные,\n",
    "необходимые для обучения. После обучения модель будет проверяться тестовым (или\n",
    "контрольным) набором, test_images и test_labels. Изображения хранятся в массивах\n",
    "Numpy, а метки — в массиве цифр от 0 до 9. Изображения и метки находятся в прямом\n",
    "соответствии, один к одному.\n",
    "Для проверки корректности загрузки достаточно сравнить тестовое изображение с его\n",
    "меткой."
   ]
  },
  {
   "cell_type": "code",
   "execution_count": 2,
   "id": "f2ab96a5",
   "metadata": {},
   "outputs": [
    {
     "data": {
      "image/png": "[encoded data removed]",
      "text/plain": [
       "<Figure size 432x288 with 1 Axes>"
      ]
     },
     "metadata": {
      "needs_background": "light"
     },
     "output_type": "display_data"
    },
    {
     "name": "stdout",
     "output_type": "stream",
     "text": [
      "2\n"
     ]
    }
   ],
   "source": [
    "plt.imshow(train_images[1255],cmap=plt.cm.binary)\n",
    "plt.show()\n",
    "print(train_labels[1255])"
   ]
  },
  {
   "cell_type": "markdown",
   "id": "9474e819",
   "metadata": {},
   "source": [
    "Исходные изображения представлены в виде массивов чисел в интервале [0, 255]. Перед\n",
    "обучением их необходимо преобразовать так, чтобы все значения оказались в интервале\n",
    "[0, 1]."
   ]
  },
  {
   "cell_type": "code",
   "execution_count": 3,
   "id": "1e5c5b55",
   "metadata": {},
   "outputs": [],
   "source": [
    "train_images = train_images / 255.0\n",
    "test_images = test_images / 255.0"
   ]
  },
  {
   "cell_type": "markdown",
   "id": "950c0fd1",
   "metadata": {},
   "source": [
    "Также необходимо закодировать метки категорий. В данном случае прямое кодирование\n",
    "меток заключается в конструировании вектора с нулевыми элементами со значением 1 в\n",
    "элементе, индекс которого соответствует индексу метки."
   ]
  },
  {
   "cell_type": "code",
   "execution_count": 4,
   "id": "297bfe20",
   "metadata": {},
   "outputs": [],
   "source": [
    "train_labels = to_categorical(train_labels)\n",
    "test_labels = to_categorical(test_labels)"
   ]
  },
  {
   "cell_type": "markdown",
   "id": "251f4339",
   "metadata": {},
   "source": [
    "Теперь можно задать базовую архитектуру сети."
   ]
  },
  {
   "cell_type": "code",
   "execution_count": 5,
   "id": "a1b6b1de",
   "metadata": {},
   "outputs": [],
   "source": [
    "model = Sequential()\n",
    "model.add(Flatten())\n",
    "model.add(Dense(256, activation='relu'))\n",
    "model.add(Dense(10, activation='softmax'))"
   ]
  },
  {
   "cell_type": "code",
   "execution_count": 6,
   "id": "ed201395",
   "metadata": {},
   "outputs": [],
   "source": [
    "model.compile(optimizer='adam',loss='categorical_crossentropy', metrics=['accuracy'])"
   ]
  },
  {
   "cell_type": "code",
   "execution_count": 7,
   "id": "1e45b55c",
   "metadata": {},
   "outputs": [
    {
     "name": "stdout",
     "output_type": "stream",
     "text": [
      "Epoch 1/5\n",
      "469/469 [==============================] - 2s 4ms/step - loss: 0.3084 - accuracy: 0.9141\n",
      "Epoch 2/5\n",
      "469/469 [==============================] - 2s 4ms/step - loss: 0.1349 - accuracy: 0.9612\n",
      "Epoch 3/5\n",
      "469/469 [==============================] - 2s 4ms/step - loss: 0.0919 - accuracy: 0.9732\n",
      "Epoch 4/5\n",
      "469/469 [==============================] - 2s 4ms/step - loss: 0.0681 - accuracy: 0.9804\n",
      "Epoch 5/5\n",
      "469/469 [==============================] - 2s 4ms/step - loss: 0.0521 - accuracy: 0.9850\n"
     ]
    },
    {
     "data": {
      "text/plain": [
       "<keras.callbacks.History at 0x219bb1fcd00>"
      ]
     },
     "execution_count": 7,
     "metadata": {},
     "output_type": "execute_result"
    }
   ],
   "source": [
    "model.fit(train_images, train_labels, epochs=5, batch_size=128)"
   ]
  },
  {
   "cell_type": "code",
   "execution_count": 8,
   "id": "89bd834e",
   "metadata": {},
   "outputs": [
    {
     "name": "stdout",
     "output_type": "stream",
     "text": [
      "313/313 [==============================] - 1s 2ms/step - loss: 0.0696 - accuracy: 0.9771\n",
      "test_acc: 0.9771000146865845\n"
     ]
    }
   ],
   "source": [
    "test_loss, test_acc = model.evaluate(test_images, test_labels)\n",
    "print('test_acc:', test_acc)"
   ]
  },
  {
   "cell_type": "markdown",
   "id": "66f95636",
   "metadata": {},
   "source": [
    "### Требования\n",
    "1. Найти архитектуру сети, при которой точность классификации будет не менее 95%\n",
    "2. Исследовать влияние различных оптимизаторов, а также их параметров, на процесс обучения\n",
    "3. Написать функцию, которая позволит загружать пользовательское изображение не из датасета"
   ]
  },
  {
   "cell_type": "markdown",
   "id": "ae2e0433",
   "metadata": {},
   "source": [
    "### №1 Найти архитектуру сети, при которой точность классификации будет не менее 95%"
   ]
  },
  {
   "cell_type": "code",
   "execution_count": 9,
   "id": "a982d073",
   "metadata": {},
   "outputs": [
    {
     "name": "stdout",
     "output_type": "stream",
     "text": [
      "Epoch 1/5\n",
      "469/469 [==============================] - 1s 2ms/step - loss: 0.5331 - accuracy: 0.8571\n",
      "Epoch 2/5\n",
      "469/469 [==============================] - 1s 2ms/step - loss: 0.2492 - accuracy: 0.9305\n",
      "Epoch 3/5\n",
      "469/469 [==============================] - 1s 2ms/step - loss: 0.2073 - accuracy: 0.9411\n",
      "Epoch 4/5\n",
      "469/469 [==============================] - 1s 2ms/step - loss: 0.1817 - accuracy: 0.9475\n",
      "Epoch 5/5\n",
      "469/469 [==============================] - 1s 3ms/step - loss: 0.1614 - accuracy: 0.9536\n",
      "313/313 [==============================] - 1s 2ms/step - loss: 0.1611 - accuracy: 0.9536\n",
      "test_acc: 0.9535999894142151\n"
     ]
    }
   ],
   "source": [
    "model2 = Sequential()\n",
    "model2.add(Flatten())\n",
    "model2.add(Dense(30, activation='relu'))\n",
    "model2.add(Dense(10, activation='softmax'))\n",
    "\n",
    "model2.compile(optimizer='adam',loss='categorical_crossentropy', metrics=['accuracy'])\n",
    "\n",
    "model2.fit(train_images, train_labels, epochs=5, batch_size=128)\n",
    "\n",
    "test_loss, test_acc = model2.evaluate(test_images, test_labels)\n",
    "print('test_acc:', test_acc)"
   ]
  },
  {
   "cell_type": "code",
   "execution_count": 10,
   "id": "3fa3786c",
   "metadata": {},
   "outputs": [
    {
     "name": "stdout",
     "output_type": "stream",
     "text": [
      "Epoch 1/5\n",
      "469/469 [==============================] - 2s 3ms/step - loss: 0.4428 - accuracy: 0.8704\n",
      "Epoch 2/5\n",
      "469/469 [==============================] - 1s 3ms/step - loss: 0.1706 - accuracy: 0.9504\n",
      "Epoch 3/5\n",
      "469/469 [==============================] - 1s 3ms/step - loss: 0.1283 - accuracy: 0.9618\n",
      "Epoch 4/5\n",
      "469/469 [==============================] - 1s 2ms/step - loss: 0.1059 - accuracy: 0.9683\n",
      "Epoch 5/5\n",
      "469/469 [==============================] - 1s 3ms/step - loss: 0.0892 - accuracy: 0.9730\n",
      "313/313 [==============================] - 1s 1ms/step - loss: 0.1101 - accuracy: 0.9663\n",
      "test_acc: 0.9663000106811523\n"
     ]
    }
   ],
   "source": [
    "model3 = Sequential()\n",
    "model3.add(Flatten())\n",
    "model3.add(Dense(60, activation='relu'))\n",
    "model3.add(Dense(40, activation='relu'))\n",
    "model3.add(Dense(25, activation='relu'))\n",
    "model3.add(Dense(10, activation='softmax'))\n",
    "\n",
    "model3.compile(optimizer='adam',loss='categorical_crossentropy', metrics=['accuracy'])\n",
    "\n",
    "model3.fit(train_images, train_labels, epochs=5, batch_size=128)\n",
    "\n",
    "test_loss, test_acc = model3.evaluate(test_images, test_labels)\n",
    "print('test_acc:', test_acc)"
   ]
  },
  {
   "cell_type": "code",
   "execution_count": 11,
   "id": "6ec4468c",
   "metadata": {},
   "outputs": [
    {
     "name": "stdout",
     "output_type": "stream",
     "text": [
      "Epoch 1/5\n",
      "1875/1875 [==============================] - 16s 8ms/step - loss: 0.1972 - accuracy: 0.9395\n",
      "Epoch 2/5\n",
      "1875/1875 [==============================] - 18s 9ms/step - loss: 0.0898 - accuracy: 0.9733\n",
      "Epoch 3/5\n",
      "1875/1875 [==============================] - 15s 8ms/step - loss: 0.0650 - accuracy: 0.9808\n",
      "Epoch 4/5\n",
      "1875/1875 [==============================] - 18s 10ms/step - loss: 0.0525 - accuracy: 0.9841\n",
      "Epoch 5/5\n",
      "1875/1875 [==============================] - 16s 8ms/step - loss: 0.0408 - accuracy: 0.9877\n",
      "313/313 [==============================] - 1s 4ms/step - loss: 0.0878 - accuracy: 0.9769\n",
      "test_acc: 0.9768999814987183\n"
     ]
    }
   ],
   "source": [
    "model4 = Sequential()\n",
    "model4.add(Flatten())\n",
    "model4.add(Dense(600, activation='relu'))\n",
    "model4.add(Dense(450, activation='relu'))\n",
    "model4.add(Dense(300, activation='relu'))\n",
    "model4.add(Dense(10, activation='softmax'))\n",
    "\n",
    "model4.compile(optimizer='adam',loss='categorical_crossentropy', metrics=['accuracy'])\n",
    "\n",
    "model4.fit(train_images, train_labels, epochs=5, batch_size=32)\n",
    "\n",
    "test_loss, test_acc = model4.evaluate(test_images, test_labels)\n",
    "print('test_acc:', test_acc)"
   ]
  },
  {
   "cell_type": "markdown",
   "id": "14fc9ef7",
   "metadata": {},
   "source": [
    "### №2 Исследовать влияние различных оптимизаторов, а также их параметров, на процесс обучения"
   ]
  },
  {
   "cell_type": "code",
   "execution_count": 12,
   "id": "129fad70",
   "metadata": {},
   "outputs": [
    {
     "name": "stdout",
     "output_type": "stream",
     "text": [
      "Epoch 1/5\n",
      "469/469 [==============================] - 2s 4ms/step - loss: 2.3831 - accuracy: 0.0831\n",
      "Epoch 2/5\n",
      "469/469 [==============================] - 2s 4ms/step - loss: 2.2597 - accuracy: 0.1271\n",
      "Epoch 3/5\n",
      "469/469 [==============================] - 2s 4ms/step - loss: 2.1457 - accuracy: 0.2254\n",
      "Epoch 4/5\n",
      "469/469 [==============================] - 2s 4ms/step - loss: 2.0388 - accuracy: 0.3438\n",
      "Epoch 5/5\n",
      "469/469 [==============================] - 2s 4ms/step - loss: 1.9377 - accuracy: 0.4575\n",
      "313/313 [==============================] - 1s 2ms/step - loss: 1.8797 - accuracy: 0.5140\n",
      "test_acc: 0.5139999985694885\n"
     ]
    }
   ],
   "source": [
    "model6 = Sequential()\n",
    "model6.add(Flatten())\n",
    "model6.add(Dense(256, activation='relu'))\n",
    "model6.add(Dense(10, activation='softmax'))\n",
    "\n",
    "model6.compile(optimizer='Adadelta',loss='categorical_crossentropy', metrics=['accuracy'])\n",
    "\n",
    "model6.fit(train_images, train_labels, epochs=5, batch_size=128)\n",
    "\n",
    "test_loss, test_acc = model6.evaluate(test_images, test_labels)\n",
    "print('test_acc:', test_acc)"
   ]
  },
  {
   "cell_type": "code",
   "execution_count": 5,
   "id": "e9b4d4c7",
   "metadata": {},
   "outputs": [
    {
     "name": "stdout",
     "output_type": "stream",
     "text": [
      "Epoch 1/20\n",
      "469/469 [==============================] - 3s 5ms/step - loss: 0.4852 - accuracy: 0.8643\n",
      "Epoch 2/20\n",
      "469/469 [==============================] - 2s 5ms/step - loss: 0.2290 - accuracy: 0.9336\n",
      "Epoch 3/20\n",
      "469/469 [==============================] - 2s 5ms/step - loss: 0.1738 - accuracy: 0.9498\n",
      "Epoch 4/20\n",
      "469/469 [==============================] - 2s 4ms/step - loss: 0.1378 - accuracy: 0.9601\n",
      "Epoch 5/20\n",
      "469/469 [==============================] - 2s 4ms/step - loss: 0.1159 - accuracy: 0.9660\n",
      "Epoch 6/20\n",
      "469/469 [==============================] - 2s 5ms/step - loss: 0.0972 - accuracy: 0.9713\n",
      "Epoch 7/20\n",
      "469/469 [==============================] - 2s 4ms/step - loss: 0.0840 - accuracy: 0.9758\n",
      "Epoch 8/20\n",
      "469/469 [==============================] - 2s 5ms/step - loss: 0.0744 - accuracy: 0.9782\n",
      "Epoch 9/20\n",
      "469/469 [==============================] - 2s 5ms/step - loss: 0.0653 - accuracy: 0.9812\n",
      "Epoch 10/20\n",
      "469/469 [==============================] - 2s 4ms/step - loss: 0.0584 - accuracy: 0.9832\n",
      "Epoch 11/20\n",
      "469/469 [==============================] - 2s 4ms/step - loss: 0.0518 - accuracy: 0.9852\n",
      "Epoch 12/20\n",
      "469/469 [==============================] - 2s 4ms/step - loss: 0.0463 - accuracy: 0.9869\n",
      "Epoch 13/20\n",
      "469/469 [==============================] - 2s 4ms/step - loss: 0.0428 - accuracy: 0.9879\n",
      "Epoch 14/20\n",
      "469/469 [==============================] - 2s 4ms/step - loss: 0.0381 - accuracy: 0.9894\n",
      "Epoch 15/20\n",
      "469/469 [==============================] - 2s 4ms/step - loss: 0.0348 - accuracy: 0.9900\n",
      "Epoch 16/20\n",
      "469/469 [==============================] - 2s 4ms/step - loss: 0.0311 - accuracy: 0.9916\n",
      "Epoch 17/20\n",
      "469/469 [==============================] - 2s 4ms/step - loss: 0.0283 - accuracy: 0.9924\n",
      "Epoch 18/20\n",
      "469/469 [==============================] - 2s 4ms/step - loss: 0.0253 - accuracy: 0.9934\n",
      "Epoch 19/20\n",
      "469/469 [==============================] - 2s 4ms/step - loss: 0.0231 - accuracy: 0.9940\n",
      "Epoch 20/20\n",
      "469/469 [==============================] - 2s 4ms/step - loss: 0.0211 - accuracy: 0.9949\n",
      "313/313 [==============================] - 1s 2ms/step - loss: 0.0735 - accuracy: 0.9776\n",
      "test_acc: 0.9775999784469604\n"
     ]
    }
   ],
   "source": [
    "model6 = Sequential()\n",
    "model6.add(Flatten())\n",
    "model6.add(Dense(128, activation='relu'))\n",
    "model6.add(Dense(784, activation='relu'))\n",
    "model6.add(Dense(10, activation='softmax'))\n",
    "\n",
    "model6.compile(optimizer=tf.keras.optimizers.SGD(learning_rate=0.1),loss='categorical_crossentropy', metrics=['accuracy'])\n",
    "\n",
    "model6.fit(train_images, train_labels, epochs=20, batch_size=128)\n",
    "\n",
    "test_loss, test_acc = model6.evaluate(test_images, test_labels)\n",
    "print('test_acc:', test_acc)"
   ]
  },
  {
   "cell_type": "code",
   "execution_count": 14,
   "id": "1dd037bf",
   "metadata": {},
   "outputs": [
    {
     "name": "stdout",
     "output_type": "stream",
     "text": [
      "Epoch 1/5\n",
      "469/469 [==============================] - 2s 3ms/step - loss: 1.1308 - accuracy: 0.7498\n",
      "Epoch 2/5\n",
      "469/469 [==============================] - 2s 3ms/step - loss: 0.5334 - accuracy: 0.8709\n",
      "Epoch 3/5\n",
      "469/469 [==============================] - 2s 3ms/step - loss: 0.4281 - accuracy: 0.8878\n",
      "Epoch 4/5\n",
      "469/469 [==============================] - 1s 3ms/step - loss: 0.3812 - accuracy: 0.8967\n",
      "Epoch 5/5\n",
      "469/469 [==============================] - 2s 3ms/step - loss: 0.3529 - accuracy: 0.9037\n",
      "313/313 [==============================] - 1s 2ms/step - loss: 0.3247 - accuracy: 0.9126\n",
      "test_acc: 0.9125999808311462\n"
     ]
    }
   ],
   "source": [
    "model7 = Sequential()\n",
    "model7.add(Flatten())\n",
    "model7.add(Dense(256, activation='relu'))\n",
    "model7.add(Dense(10, activation='softmax'))\n",
    "\n",
    "model7.compile(optimizer='SGD',loss='categorical_crossentropy', metrics=['accuracy'])\n",
    "\n",
    "model7.fit(train_images, train_labels, epochs=5, batch_size=128)\n",
    "\n",
    "test_loss, test_acc = model7.evaluate(test_images, test_labels)\n",
    "print('test_acc:', test_acc)"
   ]
  },
  {
   "cell_type": "code",
   "execution_count": 15,
   "id": "814e52a5",
   "metadata": {},
   "outputs": [
    {
     "name": "stdout",
     "output_type": "stream",
     "text": [
      "Epoch 1/5\n",
      "469/469 [==============================] - 2s 3ms/step - loss: 1.8237 - accuracy: 0.5242\n",
      "Epoch 2/5\n",
      "469/469 [==============================] - 2s 4ms/step - loss: 1.1375 - accuracy: 0.7927\n",
      "Epoch 3/5\n",
      "469/469 [==============================] - 2s 4ms/step - loss: 0.8308 - accuracy: 0.8340\n",
      "Epoch 4/5\n",
      "469/469 [==============================] - 2s 3ms/step - loss: 0.6833 - accuracy: 0.8512\n",
      "Epoch 5/5\n",
      "469/469 [==============================] - 2s 3ms/step - loss: 0.5993 - accuracy: 0.8629\n",
      "313/313 [==============================] - 1s 2ms/step - loss: 0.5439 - accuracy: 0.8728\n",
      "test_acc: 0.8727999925613403\n"
     ]
    }
   ],
   "source": [
    "model8 = Sequential()\n",
    "model8.add(Flatten())\n",
    "model8.add(Dense(256, activation='relu'))\n",
    "model8.add(Dense(10, activation='softmax'))\n",
    "\n",
    "model8.compile(optimizer='Adagrad', loss='categorical_crossentropy', metrics=['accuracy'])\n",
    "\n",
    "model8.fit(train_images, train_labels, epochs=5, batch_size=128)\n",
    "\n",
    "test_loss, test_acc = model8.evaluate(test_images, test_labels)\n",
    "print('test_acc:', test_acc)"
   ]
  },
  {
   "cell_type": "markdown",
   "id": "195f4d70",
   "metadata": {},
   "source": [
    "### Функция которая позволяет загружать пользовательские изображения"
   ]
  },
  {
   "cell_type": "code",
   "execution_count": 6,
   "id": "e789ed9e",
   "metadata": {},
   "outputs": [],
   "source": [
    "from PIL import Image\n",
    "import numpy as np\n",
    "def img(name_img):\n",
    "    img_new = Image.open(name_img)\n",
    "    img_new = img_new.convert('L')\n",
    "    img_new = np.asarray(img_new)\n",
    "    img_new = img_new / 255.0\n",
    "    x = np.expand_dims(img_new, axis=0)\n",
    "    res = model6.predict(x)\n",
    "    print(f\"Распознанная цифра: {np.argmax(res)}\")\n",
    "    plt.imshow(img_new, cmap=plt.cm.binary)\n",
    "    plt.show()"
   ]
  },
  {
   "cell_type": "code",
   "execution_count": 7,
   "id": "ed07236d",
   "metadata": {},
   "outputs": [
    {
     "name": "stdout",
     "output_type": "stream",
     "text": [
      "Распознанная цифра: 2\n"
     ]
    },
    {
     "data": {
      "image/png": "[encoded data removed]",
      "text/plain": [
       "<Figure size 432x288 with 1 Axes>"
      ]
     },
     "metadata": {
      "needs_background": "light"
     },
     "output_type": "display_data"
    }
   ],
   "source": [
    "img(\"two.png\")"
   ]
  },
  {
   "cell_type": "code",
   "execution_count": 8,
   "id": "e03b9185",
   "metadata": {},
   "outputs": [
    {
     "name": "stdout",
     "output_type": "stream",
     "text": [
      "Распознанная цифра: 5\n"
     ]
    },
    {
     "data": {
      "image/png": "[encoded data removed]",
      "text/plain": [
       "<Figure size 432x288 with 1 Axes>"
      ]
     },
     "metadata": {
      "needs_background": "light"
     },
     "output_type": "display_data"
    }
   ],
   "source": [
    "img(\"five.png\")"
   ]
  },
  {
   "cell_type": "code",
   "execution_count": 10,
   "id": "266eb75a",
   "metadata": {},
   "outputs": [
    {
     "name": "stdout",
     "output_type": "stream",
     "text": [
      "Распознанная цифра: 4\n"
     ]
    },
    {
     "data": {
      "image/png": "[encoded data removed]",
      "text/plain": [
       "<Figure size 432x288 with 1 Axes>"
      ]
     },
     "metadata": {
      "needs_background": "light"
     },
     "output_type": "display_data"
    }
   ],
   "source": [
    "img(\"1212.png\")"
   ]
  },
  {
   "cell_type": "code",
   "execution_count": null,
   "id": "dcded55f",
   "metadata": {},
   "outputs": [],
   "source": []
  }
 ],
 "metadata": {
  "kernelspec": {
   "display_name": "Python 3 (ipykernel)",
   "language": "python",
   "name": "python3"
  },
  "language_info": {
   "codemirror_mode": {
    "name": "ipython",
    "version": 3
   },
   "file_extension": ".py",
   "mimetype": "text/x-python",
   "name": "python",
   "nbconvert_exporter": "python",
   "pygments_lexer": "ipython3",
   "version": "3.9.7"
  }
 },
 "nbformat": 4,
 "nbformat_minor": 5
}
