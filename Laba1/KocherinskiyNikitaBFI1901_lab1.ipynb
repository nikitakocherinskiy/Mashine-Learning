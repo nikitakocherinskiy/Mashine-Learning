{
 "cells": [
  {
   "cell_type": "markdown",
   "id": "f93767b7",
   "metadata": {},
   "source": [
    "#                                          Лабораторная работа №1"
   ]
  },
  {
   "cell_type": "markdown",
   "id": "45023d0f",
   "metadata": {},
   "source": [
    "## Многоклассовая тематика цветов"
   ]
  },
  {
   "cell_type": "markdown",
   "id": "a4619ac8",
   "metadata": {},
   "source": [
    "### Выполнил: Кочеринский Никита БФИ1901"
   ]
  },
  {
   "cell_type": "markdown",
   "id": "31f95b8d",
   "metadata": {},
   "source": [
    "### Цель\n"
   ]
  },
  {
   "cell_type": "markdown",
   "id": "5f4f89e3",
   "metadata": {},
   "source": [
    "Реализовать классификацию сортов растения ирис (Iris Setosa - 0, Iris Versicolour - 1, Iris\n",
    "Virginica - 2) по четырем признакам: размерам пестиков и тычинок его цветков."
   ]
  },
  {
   "cell_type": "markdown",
   "id": "a8852df8",
   "metadata": {},
   "source": [
    "### Задания"
   ]
  },
  {
   "cell_type": "markdown",
   "id": "18fedf0b",
   "metadata": {},
   "source": [
    "    *Ознакомиться с задачей классификации\n",
    "    *Загрузить данные\n",
    "    *Создать модель ИНС\n",
    "    *Настроить параметры обучения\n",
    "    *Обучить и оценить модель"
   ]
  },
  {
   "cell_type": "markdown",
   "id": "d233522a",
   "metadata": {},
   "source": [
    "### Выполнение работы"
   ]
  },
  {
   "cell_type": "markdown",
   "id": "31fd87dd",
   "metadata": {},
   "source": [
    "Подключим необходимые для выполнения лабораторной работы модули."
   ]
  },
  {
   "cell_type": "code",
   "execution_count": 1,
   "id": "bf27fc72",
   "metadata": {},
   "outputs": [],
   "source": [
    "import pandas\n",
    "import matplotlib.pyplot as plt  \n",
    "from tensorflow.keras.layers import Dense\n",
    "from tensorflow.keras.models import Sequential\n",
    "from tensorflow.keras.utils import to_categorical\n",
    "from sklearn.preprocessing import LabelEncoder"
   ]
  },
  {
   "cell_type": "markdown",
   "id": "38a1a412",
   "metadata": {},
   "source": [
    "Набор данных загружается напрямую с помощью pandas. Затем необходимо разделить\n",
    "атрибуты (столбцы) на входные данные(X) и выходные данные(Y)."
   ]
  },
  {
   "cell_type": "code",
   "execution_count": 2,
   "id": "00df793a",
   "metadata": {},
   "outputs": [],
   "source": [
    "dataframe = pandas.read_csv(\"iris.csv\", header=None)\n",
    "dataset = dataframe.values\n",
    "X = dataset[:,0:4].astype(float)\n",
    "Y = dataset[:,4]"
   ]
  },
  {
   "cell_type": "markdown",
   "id": "c3ea1ce0",
   "metadata": {},
   "source": [
    "Переход от текстовых меток к категориальному вектору"
   ]
  },
  {
   "cell_type": "code",
   "execution_count": 3,
   "id": "02733635",
   "metadata": {},
   "outputs": [],
   "source": [
    "encoder = LabelEncoder()\n",
    "encoder.fit(Y)\n",
    "encoded_Y = encoder.transform(Y)\n",
    "dummy_y = to_categorical(encoded_Y)"
   ]
  },
  {
   "cell_type": "markdown",
   "id": "82c98419",
   "metadata": {},
   "source": [
    "Теперь можно задать базовую архитектуру сети"
   ]
  },
  {
   "cell_type": "code",
   "execution_count": 4,
   "id": "44ef8755",
   "metadata": {},
   "outputs": [],
   "source": [
    "model = Sequential()\n",
    "model.add(Dense(4, activation='relu'))\n",
    "model.add(Dense(3, activation='softmax'))"
   ]
  },
  {
   "cell_type": "markdown",
   "id": "ad4d1ee7",
   "metadata": {},
   "source": [
    "Инициализация параметров обучения"
   ]
  },
  {
   "cell_type": "code",
   "execution_count": 5,
   "id": "d57dd902",
   "metadata": {},
   "outputs": [],
   "source": [
    "model.compile(optimizer='adam',loss='categorical_crossentropy', metrics=['accuracy'])"
   ]
  },
  {
   "cell_type": "markdown",
   "id": "8a9ddf48",
   "metadata": {},
   "source": [
    "Обучение сети"
   ]
  },
  {
   "cell_type": "code",
   "execution_count": 6,
   "id": "8a07d70a",
   "metadata": {},
   "outputs": [
    {
     "name": "stdout",
     "output_type": "stream",
     "text": [
      "Epoch 1/75\n",
      "14/14 [==============================] - 1s 17ms/step - loss: 0.7089 - accuracy: 0.6296 - val_loss: 0.2867 - val_accuracy: 1.0000\n",
      "Epoch 2/75\n",
      "14/14 [==============================] - 0s 4ms/step - loss: 0.6438 - accuracy: 0.6296 - val_loss: 0.3434 - val_accuracy: 1.0000\n",
      "Epoch 3/75\n",
      "14/14 [==============================] - 0s 4ms/step - loss: 0.6089 - accuracy: 0.6296 - val_loss: 0.3662 - val_accuracy: 1.0000\n",
      "Epoch 4/75\n",
      "14/14 [==============================] - 0s 4ms/step - loss: 0.5859 - accuracy: 0.6296 - val_loss: 0.3507 - val_accuracy: 1.0000\n",
      "Epoch 5/75\n",
      "14/14 [==============================] - 0s 4ms/step - loss: 0.5692 - accuracy: 0.6296 - val_loss: 0.3575 - val_accuracy: 1.0000\n",
      "Epoch 6/75\n",
      "14/14 [==============================] - 0s 4ms/step - loss: 0.5551 - accuracy: 0.6296 - val_loss: 0.3618 - val_accuracy: 1.0000\n",
      "Epoch 7/75\n",
      "14/14 [==============================] - 0s 4ms/step - loss: 0.5416 - accuracy: 0.6296 - val_loss: 0.3558 - val_accuracy: 1.0000\n",
      "Epoch 8/75\n",
      "14/14 [==============================] - 0s 4ms/step - loss: 0.5288 - accuracy: 0.6296 - val_loss: 0.3641 - val_accuracy: 1.0000\n",
      "Epoch 9/75\n",
      "14/14 [==============================] - 0s 4ms/step - loss: 0.5160 - accuracy: 0.6296 - val_loss: 0.3740 - val_accuracy: 1.0000\n",
      "Epoch 10/75\n",
      "14/14 [==============================] - 0s 4ms/step - loss: 0.5042 - accuracy: 0.6296 - val_loss: 0.3675 - val_accuracy: 1.0000\n",
      "Epoch 11/75\n",
      "14/14 [==============================] - 0s 4ms/step - loss: 0.4924 - accuracy: 0.6370 - val_loss: 0.3544 - val_accuracy: 1.0000\n",
      "Epoch 12/75\n",
      "14/14 [==============================] - 0s 4ms/step - loss: 0.4805 - accuracy: 0.6519 - val_loss: 0.3675 - val_accuracy: 1.0000\n",
      "Epoch 13/75\n",
      "14/14 [==============================] - 0s 4ms/step - loss: 0.4689 - accuracy: 0.6889 - val_loss: 0.3679 - val_accuracy: 1.0000\n",
      "Epoch 14/75\n",
      "14/14 [==============================] - 0s 4ms/step - loss: 0.4582 - accuracy: 0.7259 - val_loss: 0.3888 - val_accuracy: 1.0000\n",
      "Epoch 15/75\n",
      "14/14 [==============================] - 0s 4ms/step - loss: 0.4475 - accuracy: 0.8296 - val_loss: 0.3856 - val_accuracy: 1.0000\n",
      "Epoch 16/75\n",
      "14/14 [==============================] - 0s 4ms/step - loss: 0.4371 - accuracy: 0.8444 - val_loss: 0.3811 - val_accuracy: 1.0000\n",
      "Epoch 17/75\n",
      "14/14 [==============================] - 0s 4ms/step - loss: 0.4277 - accuracy: 0.8593 - val_loss: 0.3647 - val_accuracy: 1.0000\n",
      "Epoch 18/75\n",
      "14/14 [==============================] - 0s 4ms/step - loss: 0.4170 - accuracy: 0.8741 - val_loss: 0.3795 - val_accuracy: 1.0000\n",
      "Epoch 19/75\n",
      "14/14 [==============================] - 0s 4ms/step - loss: 0.4078 - accuracy: 0.8963 - val_loss: 0.3854 - val_accuracy: 1.0000\n",
      "Epoch 20/75\n",
      "14/14 [==============================] - 0s 4ms/step - loss: 0.3993 - accuracy: 0.9259 - val_loss: 0.4149 - val_accuracy: 1.0000\n",
      "Epoch 21/75\n",
      "14/14 [==============================] - 0s 4ms/step - loss: 0.3908 - accuracy: 0.9259 - val_loss: 0.4185 - val_accuracy: 1.0000\n",
      "Epoch 22/75\n",
      "14/14 [==============================] - 0s 4ms/step - loss: 0.3813 - accuracy: 0.9259 - val_loss: 0.3994 - val_accuracy: 1.0000\n",
      "Epoch 23/75\n",
      "14/14 [==============================] - 0s 4ms/step - loss: 0.3742 - accuracy: 0.9259 - val_loss: 0.4114 - val_accuracy: 1.0000\n",
      "Epoch 24/75\n",
      "14/14 [==============================] - 0s 4ms/step - loss: 0.3657 - accuracy: 0.9333 - val_loss: 0.4283 - val_accuracy: 1.0000\n",
      "Epoch 25/75\n",
      "14/14 [==============================] - 0s 4ms/step - loss: 0.3588 - accuracy: 0.9407 - val_loss: 0.4312 - val_accuracy: 1.0000\n",
      "Epoch 26/75\n",
      "14/14 [==============================] - 0s 4ms/step - loss: 0.3514 - accuracy: 0.9481 - val_loss: 0.4663 - val_accuracy: 0.9333\n",
      "Epoch 27/75\n",
      "14/14 [==============================] - 0s 4ms/step - loss: 0.3460 - accuracy: 0.9481 - val_loss: 0.4533 - val_accuracy: 0.9333\n",
      "Epoch 28/75\n",
      "14/14 [==============================] - 0s 4ms/step - loss: 0.3392 - accuracy: 0.9481 - val_loss: 0.4510 - val_accuracy: 0.9333\n",
      "Epoch 29/75\n",
      "14/14 [==============================] - 0s 4ms/step - loss: 0.3334 - accuracy: 0.9556 - val_loss: 0.4652 - val_accuracy: 0.9333\n",
      "Epoch 30/75\n",
      "14/14 [==============================] - 0s 4ms/step - loss: 0.3284 - accuracy: 0.9481 - val_loss: 0.4803 - val_accuracy: 0.9333\n",
      "Epoch 31/75\n",
      "14/14 [==============================] - 0s 4ms/step - loss: 0.3225 - accuracy: 0.9407 - val_loss: 0.4633 - val_accuracy: 0.9333\n",
      "Epoch 32/75\n",
      "14/14 [==============================] - 0s 4ms/step - loss: 0.3174 - accuracy: 0.9481 - val_loss: 0.4659 - val_accuracy: 0.9333\n",
      "Epoch 33/75\n",
      "14/14 [==============================] - 0s 4ms/step - loss: 0.3143 - accuracy: 0.9556 - val_loss: 0.4695 - val_accuracy: 0.9333\n",
      "Epoch 34/75\n",
      "14/14 [==============================] - 0s 4ms/step - loss: 0.3082 - accuracy: 0.9556 - val_loss: 0.4819 - val_accuracy: 0.9333\n",
      "Epoch 35/75\n",
      "14/14 [==============================] - 0s 3ms/step - loss: 0.3042 - accuracy: 0.9556 - val_loss: 0.4838 - val_accuracy: 0.9333\n",
      "Epoch 36/75\n",
      "14/14 [==============================] - 0s 4ms/step - loss: 0.3030 - accuracy: 0.9481 - val_loss: 0.5098 - val_accuracy: 0.8667\n",
      "Epoch 37/75\n",
      "14/14 [==============================] - 0s 4ms/step - loss: 0.2983 - accuracy: 0.9481 - val_loss: 0.4741 - val_accuracy: 0.9333\n",
      "Epoch 38/75\n",
      "14/14 [==============================] - 0s 4ms/step - loss: 0.2937 - accuracy: 0.9481 - val_loss: 0.4859 - val_accuracy: 0.9333\n",
      "Epoch 39/75\n",
      "14/14 [==============================] - 0s 4ms/step - loss: 0.2898 - accuracy: 0.9556 - val_loss: 0.4807 - val_accuracy: 0.9333\n",
      "Epoch 40/75\n",
      "14/14 [==============================] - 0s 4ms/step - loss: 0.2891 - accuracy: 0.9481 - val_loss: 0.5342 - val_accuracy: 0.8000\n",
      "Epoch 41/75\n",
      "14/14 [==============================] - 0s 4ms/step - loss: 0.2839 - accuracy: 0.9556 - val_loss: 0.4744 - val_accuracy: 0.9333\n",
      "Epoch 42/75\n",
      "14/14 [==============================] - 0s 3ms/step - loss: 0.2808 - accuracy: 0.9481 - val_loss: 0.4886 - val_accuracy: 0.9333\n",
      "Epoch 43/75\n",
      "14/14 [==============================] - 0s 4ms/step - loss: 0.2789 - accuracy: 0.9481 - val_loss: 0.4751 - val_accuracy: 0.9333\n",
      "Epoch 44/75\n",
      "14/14 [==============================] - 0s 3ms/step - loss: 0.2749 - accuracy: 0.9481 - val_loss: 0.5181 - val_accuracy: 0.8000\n",
      "Epoch 45/75\n",
      "14/14 [==============================] - 0s 4ms/step - loss: 0.2722 - accuracy: 0.9481 - val_loss: 0.5152 - val_accuracy: 0.8000\n",
      "Epoch 46/75\n",
      "14/14 [==============================] - 0s 4ms/step - loss: 0.2697 - accuracy: 0.9481 - val_loss: 0.4980 - val_accuracy: 0.8000\n",
      "Epoch 47/75\n",
      "14/14 [==============================] - 0s 4ms/step - loss: 0.2667 - accuracy: 0.9481 - val_loss: 0.5020 - val_accuracy: 0.8000\n",
      "Epoch 48/75\n",
      "14/14 [==============================] - 0s 3ms/step - loss: 0.2650 - accuracy: 0.9481 - val_loss: 0.5296 - val_accuracy: 0.8000\n",
      "Epoch 49/75\n",
      "14/14 [==============================] - 0s 4ms/step - loss: 0.2620 - accuracy: 0.9481 - val_loss: 0.4809 - val_accuracy: 0.9333\n",
      "Epoch 50/75\n",
      "14/14 [==============================] - 0s 4ms/step - loss: 0.2601 - accuracy: 0.9481 - val_loss: 0.5101 - val_accuracy: 0.8000\n",
      "Epoch 51/75\n",
      "14/14 [==============================] - 0s 4ms/step - loss: 0.2561 - accuracy: 0.9481 - val_loss: 0.4748 - val_accuracy: 0.9333\n",
      "Epoch 52/75\n",
      "14/14 [==============================] - 0s 4ms/step - loss: 0.2567 - accuracy: 0.9556 - val_loss: 0.4293 - val_accuracy: 0.9333\n",
      "Epoch 53/75\n",
      "14/14 [==============================] - 0s 3ms/step - loss: 0.2528 - accuracy: 0.9481 - val_loss: 0.5094 - val_accuracy: 0.8000\n",
      "Epoch 54/75\n",
      "14/14 [==============================] - 0s 4ms/step - loss: 0.2500 - accuracy: 0.9481 - val_loss: 0.4999 - val_accuracy: 0.8000\n",
      "Epoch 55/75\n",
      "14/14 [==============================] - 0s 4ms/step - loss: 0.2474 - accuracy: 0.9481 - val_loss: 0.4949 - val_accuracy: 0.8000\n",
      "Epoch 56/75\n",
      "14/14 [==============================] - 0s 4ms/step - loss: 0.2466 - accuracy: 0.9481 - val_loss: 0.4569 - val_accuracy: 0.9333\n",
      "Epoch 57/75\n",
      "14/14 [==============================] - 0s 3ms/step - loss: 0.2421 - accuracy: 0.9481 - val_loss: 0.4442 - val_accuracy: 0.9333\n",
      "Epoch 58/75\n",
      "14/14 [==============================] - 0s 3ms/step - loss: 0.2398 - accuracy: 0.9481 - val_loss: 0.4457 - val_accuracy: 0.9333\n",
      "Epoch 59/75\n",
      "14/14 [==============================] - 0s 4ms/step - loss: 0.2365 - accuracy: 0.9481 - val_loss: 0.4585 - val_accuracy: 0.9333\n",
      "Epoch 60/75\n",
      "14/14 [==============================] - 0s 3ms/step - loss: 0.2338 - accuracy: 0.9481 - val_loss: 0.4859 - val_accuracy: 0.8000\n",
      "Epoch 61/75\n",
      "14/14 [==============================] - 0s 3ms/step - loss: 0.2293 - accuracy: 0.9481 - val_loss: 0.4280 - val_accuracy: 0.9333\n",
      "Epoch 62/75\n",
      "14/14 [==============================] - 0s 3ms/step - loss: 0.2256 - accuracy: 0.9556 - val_loss: 0.4282 - val_accuracy: 0.9333\n",
      "Epoch 63/75\n",
      "14/14 [==============================] - 0s 4ms/step - loss: 0.2208 - accuracy: 0.9481 - val_loss: 0.4607 - val_accuracy: 0.9333\n",
      "Epoch 64/75\n",
      "14/14 [==============================] - 0s 4ms/step - loss: 0.2248 - accuracy: 0.9407 - val_loss: 0.5214 - val_accuracy: 0.8000\n",
      "Epoch 65/75\n",
      "14/14 [==============================] - 0s 4ms/step - loss: 0.2158 - accuracy: 0.9481 - val_loss: 0.3776 - val_accuracy: 0.9333\n",
      "Epoch 66/75\n",
      "14/14 [==============================] - 0s 4ms/step - loss: 0.2105 - accuracy: 0.9481 - val_loss: 0.4186 - val_accuracy: 0.9333\n",
      "Epoch 67/75\n",
      "14/14 [==============================] - 0s 4ms/step - loss: 0.2064 - accuracy: 0.9556 - val_loss: 0.4268 - val_accuracy: 0.9333\n",
      "Epoch 68/75\n",
      "14/14 [==============================] - 0s 4ms/step - loss: 0.2034 - accuracy: 0.9556 - val_loss: 0.4332 - val_accuracy: 0.9333\n",
      "Epoch 69/75\n",
      "14/14 [==============================] - 0s 3ms/step - loss: 0.2000 - accuracy: 0.9556 - val_loss: 0.3925 - val_accuracy: 0.9333\n",
      "Epoch 70/75\n",
      "14/14 [==============================] - 0s 3ms/step - loss: 0.2020 - accuracy: 0.9481 - val_loss: 0.4474 - val_accuracy: 0.9333\n",
      "Epoch 71/75\n",
      "14/14 [==============================] - 0s 4ms/step - loss: 0.1935 - accuracy: 0.9556 - val_loss: 0.3806 - val_accuracy: 0.9333\n",
      "Epoch 72/75\n",
      "14/14 [==============================] - 0s 4ms/step - loss: 0.1909 - accuracy: 0.9556 - val_loss: 0.3766 - val_accuracy: 0.9333\n",
      "Epoch 73/75\n",
      "14/14 [==============================] - 0s 4ms/step - loss: 0.1897 - accuracy: 0.9556 - val_loss: 0.3712 - val_accuracy: 0.9333\n",
      "Epoch 74/75\n",
      "14/14 [==============================] - 0s 4ms/step - loss: 0.1847 - accuracy: 0.9556 - val_loss: 0.3873 - val_accuracy: 0.9333\n",
      "Epoch 75/75\n",
      "14/14 [==============================] - 0s 4ms/step - loss: 0.1831 - accuracy: 0.9556 - val_loss: 0.3931 - val_accuracy: 0.9333\n"
     ]
    }
   ],
   "source": [
    "f = model.fit(X, dummy_y, epochs=75, batch_size=10, validation_split=0.1)"
   ]
  },
  {
   "cell_type": "code",
   "execution_count": 7,
   "id": "2507fd2b",
   "metadata": {},
   "outputs": [
    {
     "data": {
      "text/plain": [
       "<matplotlib.legend.Legend at 0x208e280ab20>"
      ]
     },
     "execution_count": 7,
     "metadata": {},
     "output_type": "execute_result"
    },
    {
     "data": {
      "image/png": "[encoded data removed]",
      "text/plain": [
       "<Figure size 432x288 with 1 Axes>"
      ]
     },
     "metadata": {
      "needs_background": "light"
     },
     "output_type": "display_data"
    }
   ],
   "source": [
    "plt.plot(f.history['accuracy'], color=('green'))\n",
    "plt.plot(f.history['val_accuracy'], color=('red'))\n",
    "plt.title('График точности',fontsize=12)\n",
    "plt.ylabel('Точность',fontsize=12)\n",
    "plt.xlabel('Количество эпох',fontsize=12)\n",
    "plt.legend(['Обучение','Тестирование'],fontsize=12)"
   ]
  },
  {
   "cell_type": "code",
   "execution_count": 8,
   "id": "f98636f0",
   "metadata": {},
   "outputs": [
    {
     "data": {
      "text/plain": [
       "<matplotlib.legend.Legend at 0x208e28cea00>"
      ]
     },
     "execution_count": 8,
     "metadata": {},
     "output_type": "execute_result"
    },
    {
     "data": {
      "image/png": "[encoded data removed]",
      "text/plain": [
       "<Figure size 432x288 with 1 Axes>"
      ]
     },
     "metadata": {
      "needs_background": "light"
     },
     "output_type": "display_data"
    }
   ],
   "source": [
    "plt.plot(f.history['loss'], color=('green'))\n",
    "plt.plot(f.history['val_loss'], color=('red'))\n",
    "plt.title('График потерь',fontsize=12)\n",
    "plt.ylabel('Потери',fontsize=12)\n",
    "plt.xlabel('Количество эпох',fontsize=12)\n",
    "plt.legend(['Обучение','Тестирование'],fontsize=12)"
   ]
  },
  {
   "cell_type": "code",
   "execution_count": 9,
   "id": "5e70536c",
   "metadata": {},
   "outputs": [
    {
     "name": "stdout",
     "output_type": "stream",
     "text": [
      "Epoch 1/75\n",
      "14/14 [==============================] - 1s 16ms/step - loss: 1.5202 - accuracy: 0.3704 - val_loss: 1.9403 - val_accuracy: 0.0000e+00\n",
      "Epoch 2/75\n",
      "14/14 [==============================] - 0s 4ms/step - loss: 1.1760 - accuracy: 0.3704 - val_loss: 1.3085 - val_accuracy: 0.0000e+00\n",
      "Epoch 3/75\n",
      "14/14 [==============================] - 0s 4ms/step - loss: 1.0581 - accuracy: 0.4370 - val_loss: 0.9752 - val_accuracy: 0.8000\n",
      "Epoch 4/75\n",
      "14/14 [==============================] - 0s 4ms/step - loss: 1.0225 - accuracy: 0.6741 - val_loss: 0.8661 - val_accuracy: 0.8667\n",
      "Epoch 5/75\n",
      "14/14 [==============================] - 0s 4ms/step - loss: 0.9914 - accuracy: 0.7926 - val_loss: 0.9095 - val_accuracy: 0.7333\n",
      "Epoch 6/75\n",
      "14/14 [==============================] - 0s 4ms/step - loss: 0.9641 - accuracy: 0.8222 - val_loss: 0.9091 - val_accuracy: 0.6667\n",
      "Epoch 7/75\n",
      "14/14 [==============================] - 0s 4ms/step - loss: 0.9365 - accuracy: 0.7778 - val_loss: 0.8039 - val_accuracy: 0.8000\n",
      "Epoch 8/75\n",
      "14/14 [==============================] - 0s 4ms/step - loss: 0.9023 - accuracy: 0.8444 - val_loss: 0.8511 - val_accuracy: 0.6667\n",
      "Epoch 9/75\n",
      "14/14 [==============================] - 0s 4ms/step - loss: 0.8714 - accuracy: 0.8370 - val_loss: 0.8607 - val_accuracy: 0.6000\n",
      "Epoch 10/75\n",
      "14/14 [==============================] - 0s 3ms/step - loss: 0.8377 - accuracy: 0.8593 - val_loss: 0.7594 - val_accuracy: 0.8000\n",
      "Epoch 11/75\n",
      "14/14 [==============================] - 0s 3ms/step - loss: 0.8014 - accuracy: 0.9111 - val_loss: 0.6865 - val_accuracy: 0.8667\n",
      "Epoch 12/75\n",
      "14/14 [==============================] - 0s 5ms/step - loss: 0.7655 - accuracy: 0.8815 - val_loss: 0.7413 - val_accuracy: 0.7333\n",
      "Epoch 13/75\n",
      "14/14 [==============================] - 0s 4ms/step - loss: 0.7252 - accuracy: 0.9185 - val_loss: 0.6337 - val_accuracy: 0.9333\n",
      "Epoch 14/75\n",
      "14/14 [==============================] - 0s 4ms/step - loss: 0.6840 - accuracy: 0.9259 - val_loss: 0.6145 - val_accuracy: 0.8000\n",
      "Epoch 15/75\n",
      "14/14 [==============================] - 0s 4ms/step - loss: 0.6424 - accuracy: 0.9185 - val_loss: 0.5603 - val_accuracy: 0.9333\n",
      "Epoch 16/75\n",
      "14/14 [==============================] - 0s 4ms/step - loss: 0.5988 - accuracy: 0.9333 - val_loss: 0.5128 - val_accuracy: 1.0000\n",
      "Epoch 17/75\n",
      "14/14 [==============================] - 0s 4ms/step - loss: 0.5545 - accuracy: 0.9556 - val_loss: 0.5634 - val_accuracy: 0.8000\n",
      "Epoch 18/75\n",
      "14/14 [==============================] - 0s 4ms/step - loss: 0.5124 - accuracy: 0.9333 - val_loss: 0.4364 - val_accuracy: 1.0000\n",
      "Epoch 19/75\n",
      "14/14 [==============================] - 0s 4ms/step - loss: 0.4637 - accuracy: 0.9333 - val_loss: 0.3699 - val_accuracy: 1.0000\n",
      "Epoch 20/75\n",
      "14/14 [==============================] - 0s 4ms/step - loss: 0.4224 - accuracy: 0.9259 - val_loss: 0.4074 - val_accuracy: 0.9333\n",
      "Epoch 21/75\n",
      "14/14 [==============================] - 0s 4ms/step - loss: 0.3835 - accuracy: 0.9333 - val_loss: 0.2913 - val_accuracy: 1.0000\n",
      "Epoch 22/75\n",
      "14/14 [==============================] - 0s 4ms/step - loss: 0.3506 - accuracy: 0.9630 - val_loss: 0.3660 - val_accuracy: 0.9333\n",
      "Epoch 23/75\n",
      "14/14 [==============================] - 0s 4ms/step - loss: 0.3243 - accuracy: 0.9333 - val_loss: 0.2823 - val_accuracy: 1.0000\n",
      "Epoch 24/75\n",
      "14/14 [==============================] - 0s 4ms/step - loss: 0.2974 - accuracy: 0.9630 - val_loss: 0.3188 - val_accuracy: 1.0000\n",
      "Epoch 25/75\n",
      "14/14 [==============================] - 0s 4ms/step - loss: 0.2791 - accuracy: 0.9333 - val_loss: 0.2796 - val_accuracy: 1.0000\n",
      "Epoch 26/75\n",
      "14/14 [==============================] - 0s 5ms/step - loss: 0.2628 - accuracy: 0.9481 - val_loss: 0.2971 - val_accuracy: 1.0000\n",
      "Epoch 27/75\n",
      "14/14 [==============================] - 0s 4ms/step - loss: 0.2508 - accuracy: 0.9407 - val_loss: 0.2224 - val_accuracy: 1.0000\n",
      "Epoch 28/75\n",
      "14/14 [==============================] - 0s 4ms/step - loss: 0.2328 - accuracy: 0.9481 - val_loss: 0.3023 - val_accuracy: 0.9333\n",
      "Epoch 29/75\n",
      "14/14 [==============================] - 0s 4ms/step - loss: 0.2180 - accuracy: 0.9481 - val_loss: 0.2209 - val_accuracy: 1.0000\n",
      "Epoch 30/75\n",
      "14/14 [==============================] - 0s 4ms/step - loss: 0.2066 - accuracy: 0.9630 - val_loss: 0.3222 - val_accuracy: 0.9333\n",
      "Epoch 31/75\n",
      "14/14 [==============================] - 0s 4ms/step - loss: 0.2083 - accuracy: 0.9481 - val_loss: 0.2182 - val_accuracy: 1.0000\n",
      "Epoch 32/75\n",
      "14/14 [==============================] - 0s 4ms/step - loss: 0.2165 - accuracy: 0.9259 - val_loss: 0.1649 - val_accuracy: 1.0000\n",
      "Epoch 33/75\n",
      "14/14 [==============================] - 0s 4ms/step - loss: 0.1945 - accuracy: 0.9630 - val_loss: 0.2983 - val_accuracy: 0.9333\n",
      "Epoch 34/75\n",
      "14/14 [==============================] - 0s 4ms/step - loss: 0.1871 - accuracy: 0.9333 - val_loss: 0.2166 - val_accuracy: 1.0000\n",
      "Epoch 35/75\n",
      "14/14 [==============================] - 0s 4ms/step - loss: 0.1745 - accuracy: 0.9704 - val_loss: 0.1794 - val_accuracy: 1.0000\n",
      "Epoch 36/75\n",
      "14/14 [==============================] - 0s 4ms/step - loss: 0.1700 - accuracy: 0.9630 - val_loss: 0.2685 - val_accuracy: 0.9333\n",
      "Epoch 37/75\n",
      "14/14 [==============================] - 0s 4ms/step - loss: 0.1631 - accuracy: 0.9481 - val_loss: 0.2049 - val_accuracy: 1.0000\n",
      "Epoch 38/75\n",
      "14/14 [==============================] - 0s 4ms/step - loss: 0.1688 - accuracy: 0.9704 - val_loss: 0.2081 - val_accuracy: 1.0000\n",
      "Epoch 39/75\n",
      "14/14 [==============================] - 0s 4ms/step - loss: 0.1550 - accuracy: 0.9481 - val_loss: 0.2755 - val_accuracy: 0.9333\n",
      "Epoch 40/75\n",
      "14/14 [==============================] - 0s 4ms/step - loss: 0.1537 - accuracy: 0.9556 - val_loss: 0.2105 - val_accuracy: 1.0000\n",
      "Epoch 41/75\n",
      "14/14 [==============================] - 0s 4ms/step - loss: 0.1509 - accuracy: 0.9481 - val_loss: 0.2040 - val_accuracy: 1.0000\n",
      "Epoch 42/75\n",
      "14/14 [==============================] - 0s 4ms/step - loss: 0.1594 - accuracy: 0.9407 - val_loss: 0.2260 - val_accuracy: 1.0000\n",
      "Epoch 43/75\n",
      "14/14 [==============================] - 0s 4ms/step - loss: 0.1500 - accuracy: 0.9704 - val_loss: 0.1656 - val_accuracy: 1.0000\n",
      "Epoch 44/75\n",
      "14/14 [==============================] - 0s 3ms/step - loss: 0.1418 - accuracy: 0.9481 - val_loss: 0.1944 - val_accuracy: 1.0000\n",
      "Epoch 45/75\n",
      "14/14 [==============================] - 0s 4ms/step - loss: 0.1414 - accuracy: 0.9630 - val_loss: 0.2326 - val_accuracy: 1.0000\n",
      "Epoch 46/75\n",
      "14/14 [==============================] - 0s 4ms/step - loss: 0.1354 - accuracy: 0.9481 - val_loss: 0.2038 - val_accuracy: 1.0000\n",
      "Epoch 47/75\n",
      "14/14 [==============================] - 0s 4ms/step - loss: 0.1366 - accuracy: 0.9630 - val_loss: 0.1649 - val_accuracy: 1.0000\n",
      "Epoch 48/75\n",
      "14/14 [==============================] - 0s 4ms/step - loss: 0.1354 - accuracy: 0.9481 - val_loss: 0.2355 - val_accuracy: 1.0000\n",
      "Epoch 49/75\n",
      "14/14 [==============================] - 0s 4ms/step - loss: 0.1320 - accuracy: 0.9481 - val_loss: 0.2030 - val_accuracy: 1.0000\n",
      "Epoch 50/75\n",
      "14/14 [==============================] - 0s 5ms/step - loss: 0.1322 - accuracy: 0.9481 - val_loss: 0.2093 - val_accuracy: 1.0000\n",
      "Epoch 51/75\n",
      "14/14 [==============================] - 0s 4ms/step - loss: 0.1298 - accuracy: 0.9630 - val_loss: 0.1596 - val_accuracy: 1.0000\n",
      "Epoch 52/75\n",
      "14/14 [==============================] - 0s 4ms/step - loss: 0.1315 - accuracy: 0.9481 - val_loss: 0.1747 - val_accuracy: 1.0000\n",
      "Epoch 53/75\n",
      "14/14 [==============================] - 0s 4ms/step - loss: 0.1275 - accuracy: 0.9556 - val_loss: 0.1709 - val_accuracy: 1.0000\n",
      "Epoch 54/75\n",
      "14/14 [==============================] - 0s 4ms/step - loss: 0.1214 - accuracy: 0.9481 - val_loss: 0.1819 - val_accuracy: 1.0000\n",
      "Epoch 55/75\n",
      "14/14 [==============================] - 0s 4ms/step - loss: 0.1203 - accuracy: 0.9481 - val_loss: 0.1782 - val_accuracy: 1.0000\n",
      "Epoch 56/75\n",
      "14/14 [==============================] - 0s 4ms/step - loss: 0.1252 - accuracy: 0.9481 - val_loss: 0.1542 - val_accuracy: 1.0000\n",
      "Epoch 57/75\n",
      "14/14 [==============================] - 0s 5ms/step - loss: 0.1180 - accuracy: 0.9704 - val_loss: 0.1608 - val_accuracy: 1.0000\n",
      "Epoch 58/75\n",
      "14/14 [==============================] - 0s 5ms/step - loss: 0.1172 - accuracy: 0.9556 - val_loss: 0.1990 - val_accuracy: 1.0000\n",
      "Epoch 59/75\n",
      "14/14 [==============================] - 0s 4ms/step - loss: 0.1156 - accuracy: 0.9481 - val_loss: 0.1525 - val_accuracy: 1.0000\n",
      "Epoch 60/75\n",
      "14/14 [==============================] - 0s 4ms/step - loss: 0.1141 - accuracy: 0.9481 - val_loss: 0.1730 - val_accuracy: 1.0000\n",
      "Epoch 61/75\n",
      "14/14 [==============================] - 0s 4ms/step - loss: 0.1168 - accuracy: 0.9481 - val_loss: 0.1574 - val_accuracy: 1.0000\n",
      "Epoch 62/75\n",
      "14/14 [==============================] - 0s 4ms/step - loss: 0.1221 - accuracy: 0.9704 - val_loss: 0.1729 - val_accuracy: 1.0000\n",
      "Epoch 63/75\n",
      "14/14 [==============================] - 0s 4ms/step - loss: 0.1118 - accuracy: 0.9556 - val_loss: 0.1534 - val_accuracy: 1.0000\n",
      "Epoch 64/75\n",
      "14/14 [==============================] - 0s 4ms/step - loss: 0.1256 - accuracy: 0.9407 - val_loss: 0.1704 - val_accuracy: 1.0000\n",
      "Epoch 65/75\n",
      "14/14 [==============================] - 0s 4ms/step - loss: 0.1171 - accuracy: 0.9630 - val_loss: 0.1280 - val_accuracy: 1.0000\n",
      "Epoch 66/75\n",
      "14/14 [==============================] - 0s 4ms/step - loss: 0.1062 - accuracy: 0.9630 - val_loss: 0.1855 - val_accuracy: 1.0000\n",
      "Epoch 67/75\n",
      "14/14 [==============================] - 0s 4ms/step - loss: 0.1111 - accuracy: 0.9481 - val_loss: 0.1491 - val_accuracy: 1.0000\n",
      "Epoch 68/75\n",
      "14/14 [==============================] - 0s 4ms/step - loss: 0.1058 - accuracy: 0.9630 - val_loss: 0.2016 - val_accuracy: 1.0000\n",
      "Epoch 69/75\n",
      "14/14 [==============================] - 0s 4ms/step - loss: 0.1139 - accuracy: 0.9556 - val_loss: 0.1267 - val_accuracy: 1.0000\n",
      "Epoch 70/75\n",
      "14/14 [==============================] - 0s 4ms/step - loss: 0.1071 - accuracy: 0.9704 - val_loss: 0.1326 - val_accuracy: 1.0000\n",
      "Epoch 71/75\n",
      "14/14 [==============================] - 0s 4ms/step - loss: 0.1073 - accuracy: 0.9481 - val_loss: 0.2088 - val_accuracy: 0.9333\n",
      "Epoch 72/75\n",
      "14/14 [==============================] - 0s 4ms/step - loss: 0.1036 - accuracy: 0.9481 - val_loss: 0.1408 - val_accuracy: 1.0000\n",
      "Epoch 73/75\n",
      "14/14 [==============================] - 0s 4ms/step - loss: 0.1039 - accuracy: 0.9481 - val_loss: 0.1664 - val_accuracy: 1.0000\n",
      "Epoch 74/75\n",
      "14/14 [==============================] - 0s 3ms/step - loss: 0.1027 - accuracy: 0.9481 - val_loss: 0.1161 - val_accuracy: 1.0000\n",
      "Epoch 75/75\n",
      "14/14 [==============================] - 0s 4ms/step - loss: 0.1031 - accuracy: 0.9704 - val_loss: 0.1482 - val_accuracy: 1.0000\n"
     ]
    }
   ],
   "source": [
    "import pandas\n",
    "import matplotlib.pyplot as plt  \n",
    "from tensorflow.keras.layers import Dense\n",
    "from tensorflow.keras.models import Sequential\n",
    "from tensorflow.keras.utils import to_categorical\n",
    "from sklearn.preprocessing import LabelEncoder\n",
    "\n",
    "dataframe = pandas.read_csv(\"iris.csv\", header=None)\n",
    "dataset = dataframe.values\n",
    "X = dataset[:,0:4].astype(float)\n",
    "Y = dataset[:,4]\n",
    "\n",
    "encoder = LabelEncoder()\n",
    "encoder.fit(Y)\n",
    "encoded_Y = encoder.transform(Y)\n",
    "dummy_y = to_categorical(encoded_Y)\n",
    "\n",
    "model = Sequential()\n",
    "model.add(Dense(8, activation='relu'))\n",
    "model.add(Dense(10, activation='relu'))\n",
    "model.add(Dense(12, activation='relu'))\n",
    "model.add(Dense(3, activation='softmax'))\n",
    "\n",
    "model.compile(optimizer='adam',loss='categorical_crossentropy', metrics=['accuracy'])\n",
    "\n",
    "f = model.fit(X, dummy_y, epochs=75, batch_size=10, validation_split=0.1)"
   ]
  },
  {
   "cell_type": "code",
   "execution_count": 10,
   "id": "49b08946",
   "metadata": {},
   "outputs": [
    {
     "data": {
      "text/plain": [
       "<matplotlib.legend.Legend at 0x208e29b51c0>"
      ]
     },
     "execution_count": 10,
     "metadata": {},
     "output_type": "execute_result"
    },
    {
     "data": {
      "image/png": "[encoded data removed]",
      "text/plain": [
       "<Figure size 432x288 with 1 Axes>"
      ]
     },
     "metadata": {
      "needs_background": "light"
     },
     "output_type": "display_data"
    }
   ],
   "source": [
    "plt.plot(f.history['accuracy'], color=('green'))\n",
    "plt.plot(f.history['val_accuracy'], color=('red'))\n",
    "plt.title('График точности',fontsize=12)\n",
    "plt.ylabel('Точность',fontsize=12)\n",
    "plt.xlabel('Количество эпох',fontsize=12)\n",
    "plt.legend(['Обучение','Тестирование'],fontsize=12)"
   ]
  },
  {
   "cell_type": "code",
   "execution_count": 11,
   "id": "5f6a8931",
   "metadata": {},
   "outputs": [
    {
     "data": {
      "text/plain": [
       "<matplotlib.legend.Legend at 0x208e3b23af0>"
      ]
     },
     "execution_count": 11,
     "metadata": {},
     "output_type": "execute_result"
    },
    {
     "data": {
      "image/png": "[encoded data removed]",
      "text/plain": [
       "<Figure size 432x288 with 1 Axes>"
      ]
     },
     "metadata": {
      "needs_background": "light"
     },
     "output_type": "display_data"
    }
   ],
   "source": [
    "plt.plot(f.history['loss'], color=('green'))\n",
    "plt.plot(f.history['val_loss'], color=('red'))\n",
    "plt.title('График потерь',fontsize=12)\n",
    "plt.ylabel('Потери',fontsize=12)\n",
    "plt.xlabel('Количество эпох',fontsize=12)\n",
    "plt.legend(['Обучение','Тестирование'],fontsize=12)"
   ]
  },
  {
   "cell_type": "code",
   "execution_count": 12,
   "id": "906a52f5",
   "metadata": {},
   "outputs": [
    {
     "name": "stdout",
     "output_type": "stream",
     "text": [
      "Epoch 1/175\n",
      "14/14 [==============================] - 1s 14ms/step - loss: 1.2873 - accuracy: 0.3704 - val_loss: 1.4044 - val_accuracy: 0.0000e+00\n",
      "Epoch 2/175\n",
      "14/14 [==============================] - 0s 3ms/step - loss: 0.9560 - accuracy: 0.4074 - val_loss: 1.2061 - val_accuracy: 0.0000e+00\n",
      "Epoch 3/175\n",
      "14/14 [==============================] - 0s 4ms/step - loss: 0.8872 - accuracy: 0.8444 - val_loss: 1.0104 - val_accuracy: 0.7333\n",
      "Epoch 4/175\n",
      "14/14 [==============================] - 0s 4ms/step - loss: 0.8310 - accuracy: 0.9481 - val_loss: 0.9070 - val_accuracy: 1.0000\n",
      "Epoch 5/175\n",
      "14/14 [==============================] - 0s 4ms/step - loss: 0.7838 - accuracy: 0.9704 - val_loss: 0.8931 - val_accuracy: 0.9333\n",
      "Epoch 6/175\n",
      "14/14 [==============================] - 0s 4ms/step - loss: 0.7398 - accuracy: 0.9481 - val_loss: 0.8403 - val_accuracy: 0.9333\n",
      "Epoch 7/175\n",
      "14/14 [==============================] - 0s 4ms/step - loss: 0.6932 - accuracy: 0.9556 - val_loss: 0.7921 - val_accuracy: 1.0000\n",
      "Epoch 8/175\n",
      "14/14 [==============================] - 0s 4ms/step - loss: 0.6499 - accuracy: 0.9704 - val_loss: 0.7414 - val_accuracy: 1.0000\n",
      "Epoch 9/175\n",
      "14/14 [==============================] - 0s 4ms/step - loss: 0.6008 - accuracy: 0.9481 - val_loss: 0.7622 - val_accuracy: 0.8667\n",
      "Epoch 10/175\n",
      "14/14 [==============================] - 0s 4ms/step - loss: 0.5667 - accuracy: 0.9704 - val_loss: 0.6803 - val_accuracy: 1.0000\n",
      "Epoch 11/175\n",
      "14/14 [==============================] - 0s 4ms/step - loss: 0.5230 - accuracy: 0.9852 - val_loss: 0.6533 - val_accuracy: 1.0000\n",
      "Epoch 12/175\n",
      "14/14 [==============================] - 0s 4ms/step - loss: 0.4872 - accuracy: 0.9630 - val_loss: 0.6105 - val_accuracy: 1.0000\n",
      "Epoch 13/175\n",
      "14/14 [==============================] - 0s 4ms/step - loss: 0.4536 - accuracy: 0.9704 - val_loss: 0.5980 - val_accuracy: 0.9333\n",
      "Epoch 14/175\n",
      "14/14 [==============================] - 0s 4ms/step - loss: 0.4221 - accuracy: 0.9778 - val_loss: 0.5422 - val_accuracy: 1.0000\n",
      "Epoch 15/175\n",
      "14/14 [==============================] - 0s 3ms/step - loss: 0.3898 - accuracy: 0.9852 - val_loss: 0.5277 - val_accuracy: 1.0000\n",
      "Epoch 16/175\n",
      "14/14 [==============================] - 0s 4ms/step - loss: 0.3621 - accuracy: 0.9778 - val_loss: 0.4610 - val_accuracy: 1.0000\n",
      "Epoch 17/175\n",
      "14/14 [==============================] - 0s 4ms/step - loss: 0.3351 - accuracy: 0.9852 - val_loss: 0.5072 - val_accuracy: 0.9333\n",
      "Epoch 18/175\n",
      "14/14 [==============================] - 0s 4ms/step - loss: 0.3129 - accuracy: 0.9556 - val_loss: 0.4426 - val_accuracy: 1.0000\n",
      "Epoch 19/175\n",
      "14/14 [==============================] - 0s 4ms/step - loss: 0.2930 - accuracy: 0.9704 - val_loss: 0.4047 - val_accuracy: 1.0000\n",
      "Epoch 20/175\n",
      "14/14 [==============================] - 0s 4ms/step - loss: 0.2779 - accuracy: 0.9481 - val_loss: 0.3695 - val_accuracy: 1.0000\n",
      "Epoch 21/175\n",
      "14/14 [==============================] - 0s 4ms/step - loss: 0.2560 - accuracy: 0.9704 - val_loss: 0.4077 - val_accuracy: 0.9333\n",
      "Epoch 22/175\n",
      "14/14 [==============================] - 0s 4ms/step - loss: 0.2434 - accuracy: 0.9481 - val_loss: 0.3326 - val_accuracy: 1.0000\n",
      "Epoch 23/175\n",
      "14/14 [==============================] - 0s 4ms/step - loss: 0.2241 - accuracy: 0.9852 - val_loss: 0.3625 - val_accuracy: 0.9333\n",
      "Epoch 24/175\n",
      "14/14 [==============================] - 0s 4ms/step - loss: 0.2175 - accuracy: 0.9481 - val_loss: 0.2875 - val_accuracy: 1.0000\n",
      "Epoch 25/175\n",
      "14/14 [==============================] - 0s 4ms/step - loss: 0.1997 - accuracy: 0.9778 - val_loss: 0.3174 - val_accuracy: 1.0000\n",
      "Epoch 26/175\n",
      "14/14 [==============================] - 0s 4ms/step - loss: 0.1993 - accuracy: 0.9556 - val_loss: 0.2498 - val_accuracy: 1.0000\n",
      "Epoch 27/175\n",
      "14/14 [==============================] - 0s 4ms/step - loss: 0.1847 - accuracy: 0.9704 - val_loss: 0.3134 - val_accuracy: 0.9333\n",
      "Epoch 28/175\n",
      "14/14 [==============================] - 0s 4ms/step - loss: 0.1713 - accuracy: 0.9481 - val_loss: 0.2810 - val_accuracy: 1.0000\n",
      "Epoch 29/175\n",
      "14/14 [==============================] - 0s 3ms/step - loss: 0.1663 - accuracy: 0.9778 - val_loss: 0.2839 - val_accuracy: 0.9333\n",
      "Epoch 30/175\n",
      "14/14 [==============================] - 0s 4ms/step - loss: 0.1560 - accuracy: 0.9778 - val_loss: 0.2705 - val_accuracy: 0.9333\n",
      "Epoch 31/175\n",
      "14/14 [==============================] - 0s 4ms/step - loss: 0.1498 - accuracy: 0.9704 - val_loss: 0.2172 - val_accuracy: 1.0000\n",
      "Epoch 32/175\n",
      "14/14 [==============================] - 0s 4ms/step - loss: 0.1427 - accuracy: 0.9852 - val_loss: 0.2469 - val_accuracy: 1.0000\n",
      "Epoch 33/175\n",
      "14/14 [==============================] - 0s 4ms/step - loss: 0.1392 - accuracy: 0.9481 - val_loss: 0.2378 - val_accuracy: 1.0000\n",
      "Epoch 34/175\n",
      "14/14 [==============================] - 0s 4ms/step - loss: 0.1332 - accuracy: 0.9852 - val_loss: 0.2148 - val_accuracy: 1.0000\n",
      "Epoch 35/175\n",
      "14/14 [==============================] - 0s 4ms/step - loss: 0.1284 - accuracy: 0.9852 - val_loss: 0.1736 - val_accuracy: 1.0000\n",
      "Epoch 36/175\n",
      "14/14 [==============================] - 0s 4ms/step - loss: 0.1276 - accuracy: 0.9704 - val_loss: 0.1955 - val_accuracy: 1.0000\n",
      "Epoch 37/175\n",
      "14/14 [==============================] - 0s 4ms/step - loss: 0.1210 - accuracy: 0.9778 - val_loss: 0.2252 - val_accuracy: 0.9333\n",
      "Epoch 38/175\n",
      "14/14 [==============================] - 0s 3ms/step - loss: 0.1213 - accuracy: 0.9630 - val_loss: 0.2054 - val_accuracy: 1.0000\n",
      "Epoch 39/175\n",
      "14/14 [==============================] - 0s 3ms/step - loss: 0.1136 - accuracy: 0.9778 - val_loss: 0.1938 - val_accuracy: 1.0000\n",
      "Epoch 40/175\n",
      "14/14 [==============================] - 0s 4ms/step - loss: 0.1126 - accuracy: 0.9778 - val_loss: 0.1831 - val_accuracy: 1.0000\n",
      "Epoch 41/175\n",
      "14/14 [==============================] - 0s 4ms/step - loss: 0.1084 - accuracy: 0.9778 - val_loss: 0.1226 - val_accuracy: 1.0000\n",
      "Epoch 42/175\n",
      "14/14 [==============================] - 0s 4ms/step - loss: 0.1062 - accuracy: 0.9852 - val_loss: 0.2375 - val_accuracy: 0.9333\n",
      "Epoch 43/175\n",
      "14/14 [==============================] - 0s 4ms/step - loss: 0.1079 - accuracy: 0.9481 - val_loss: 0.0766 - val_accuracy: 1.0000\n",
      "Epoch 44/175\n",
      "14/14 [==============================] - 0s 3ms/step - loss: 0.1154 - accuracy: 0.9556 - val_loss: 0.1733 - val_accuracy: 1.0000\n",
      "Epoch 45/175\n",
      "14/14 [==============================] - 0s 3ms/step - loss: 0.1007 - accuracy: 0.9704 - val_loss: 0.1459 - val_accuracy: 1.0000\n",
      "Epoch 46/175\n",
      "14/14 [==============================] - 0s 3ms/step - loss: 0.0994 - accuracy: 0.9704 - val_loss: 0.1095 - val_accuracy: 1.0000\n",
      "Epoch 47/175\n",
      "14/14 [==============================] - 0s 4ms/step - loss: 0.1045 - accuracy: 0.9704 - val_loss: 0.2093 - val_accuracy: 0.9333\n",
      "Epoch 48/175\n",
      "14/14 [==============================] - 0s 4ms/step - loss: 0.1068 - accuracy: 0.9407 - val_loss: 0.1004 - val_accuracy: 1.0000\n",
      "Epoch 49/175\n",
      "14/14 [==============================] - 0s 5ms/step - loss: 0.0962 - accuracy: 0.9852 - val_loss: 0.1075 - val_accuracy: 1.0000\n",
      "Epoch 50/175\n",
      "14/14 [==============================] - 0s 4ms/step - loss: 0.0935 - accuracy: 0.9778 - val_loss: 0.1625 - val_accuracy: 0.9333\n",
      "Epoch 51/175\n",
      "14/14 [==============================] - 0s 4ms/step - loss: 0.0919 - accuracy: 0.9778 - val_loss: 0.1325 - val_accuracy: 1.0000\n",
      "Epoch 52/175\n",
      "14/14 [==============================] - 0s 4ms/step - loss: 0.0931 - accuracy: 0.9630 - val_loss: 0.0979 - val_accuracy: 1.0000\n",
      "Epoch 53/175\n",
      "14/14 [==============================] - 0s 4ms/step - loss: 0.0967 - accuracy: 0.9778 - val_loss: 0.1107 - val_accuracy: 1.0000\n",
      "Epoch 54/175\n",
      "14/14 [==============================] - 0s 4ms/step - loss: 0.0871 - accuracy: 0.9778 - val_loss: 0.1294 - val_accuracy: 1.0000\n",
      "Epoch 55/175\n",
      "14/14 [==============================] - 0s 4ms/step - loss: 0.1030 - accuracy: 0.9407 - val_loss: 0.0979 - val_accuracy: 1.0000\n",
      "Epoch 56/175\n",
      "14/14 [==============================] - 0s 4ms/step - loss: 0.1109 - accuracy: 0.9630 - val_loss: 0.1545 - val_accuracy: 0.9333\n",
      "Epoch 57/175\n",
      "14/14 [==============================] - 0s 5ms/step - loss: 0.1224 - accuracy: 0.9407 - val_loss: 0.0373 - val_accuracy: 1.0000\n",
      "Epoch 58/175\n",
      "14/14 [==============================] - 0s 3ms/step - loss: 0.0981 - accuracy: 0.9704 - val_loss: 0.1346 - val_accuracy: 1.0000\n"
     ]
    },
    {
     "name": "stdout",
     "output_type": "stream",
     "text": [
      "Epoch 59/175\n",
      "14/14 [==============================] - 0s 4ms/step - loss: 0.0818 - accuracy: 0.9704 - val_loss: 0.0714 - val_accuracy: 1.0000\n",
      "Epoch 60/175\n",
      "14/14 [==============================] - 0s 4ms/step - loss: 0.0918 - accuracy: 0.9704 - val_loss: 0.1877 - val_accuracy: 0.9333\n",
      "Epoch 61/175\n",
      "14/14 [==============================] - 0s 4ms/step - loss: 0.0960 - accuracy: 0.9556 - val_loss: 0.0748 - val_accuracy: 1.0000\n",
      "Epoch 62/175\n",
      "14/14 [==============================] - 0s 4ms/step - loss: 0.0856 - accuracy: 0.9556 - val_loss: 0.1037 - val_accuracy: 1.0000\n",
      "Epoch 63/175\n",
      "14/14 [==============================] - 0s 4ms/step - loss: 0.0831 - accuracy: 0.9778 - val_loss: 0.0852 - val_accuracy: 1.0000\n",
      "Epoch 64/175\n",
      "14/14 [==============================] - 0s 4ms/step - loss: 0.0786 - accuracy: 0.9704 - val_loss: 0.1081 - val_accuracy: 1.0000\n",
      "Epoch 65/175\n",
      "14/14 [==============================] - 0s 4ms/step - loss: 0.0808 - accuracy: 0.9778 - val_loss: 0.1184 - val_accuracy: 1.0000\n",
      "Epoch 66/175\n",
      "14/14 [==============================] - 0s 3ms/step - loss: 0.0772 - accuracy: 0.9852 - val_loss: 0.1162 - val_accuracy: 1.0000\n",
      "Epoch 67/175\n",
      "14/14 [==============================] - 0s 3ms/step - loss: 0.0914 - accuracy: 0.9778 - val_loss: 0.0851 - val_accuracy: 1.0000\n",
      "Epoch 68/175\n",
      "14/14 [==============================] - 0s 4ms/step - loss: 0.0896 - accuracy: 0.9481 - val_loss: 0.0588 - val_accuracy: 1.0000\n",
      "Epoch 69/175\n",
      "14/14 [==============================] - 0s 3ms/step - loss: 0.0809 - accuracy: 0.9778 - val_loss: 0.1367 - val_accuracy: 0.9333\n",
      "Epoch 70/175\n",
      "14/14 [==============================] - 0s 4ms/step - loss: 0.0832 - accuracy: 0.9481 - val_loss: 0.0933 - val_accuracy: 1.0000\n",
      "Epoch 71/175\n",
      "14/14 [==============================] - 0s 4ms/step - loss: 0.0821 - accuracy: 0.9778 - val_loss: 0.0886 - val_accuracy: 1.0000\n",
      "Epoch 72/175\n",
      "14/14 [==============================] - 0s 4ms/step - loss: 0.0770 - accuracy: 0.9704 - val_loss: 0.1488 - val_accuracy: 0.9333\n",
      "Epoch 73/175\n",
      "14/14 [==============================] - 0s 4ms/step - loss: 0.0763 - accuracy: 0.9778 - val_loss: 0.0719 - val_accuracy: 1.0000\n",
      "Epoch 74/175\n",
      "14/14 [==============================] - 0s 4ms/step - loss: 0.0774 - accuracy: 0.9704 - val_loss: 0.0926 - val_accuracy: 1.0000\n",
      "Epoch 75/175\n",
      "14/14 [==============================] - 0s 4ms/step - loss: 0.0721 - accuracy: 0.9778 - val_loss: 0.0764 - val_accuracy: 1.0000\n",
      "Epoch 76/175\n",
      "14/14 [==============================] - 0s 4ms/step - loss: 0.0745 - accuracy: 0.9556 - val_loss: 0.1008 - val_accuracy: 1.0000\n",
      "Epoch 77/175\n",
      "14/14 [==============================] - 0s 4ms/step - loss: 0.0689 - accuracy: 0.9778 - val_loss: 0.0518 - val_accuracy: 1.0000\n",
      "Epoch 78/175\n",
      "14/14 [==============================] - 0s 4ms/step - loss: 0.0798 - accuracy: 0.9704 - val_loss: 0.1556 - val_accuracy: 0.9333\n",
      "Epoch 79/175\n",
      "14/14 [==============================] - 0s 4ms/step - loss: 0.0714 - accuracy: 0.9778 - val_loss: 0.0575 - val_accuracy: 1.0000\n",
      "Epoch 80/175\n",
      "14/14 [==============================] - 0s 3ms/step - loss: 0.0807 - accuracy: 0.9556 - val_loss: 0.0969 - val_accuracy: 1.0000\n",
      "Epoch 81/175\n",
      "14/14 [==============================] - 0s 3ms/step - loss: 0.0727 - accuracy: 0.9778 - val_loss: 0.0820 - val_accuracy: 1.0000\n",
      "Epoch 82/175\n",
      "14/14 [==============================] - 0s 4ms/step - loss: 0.0710 - accuracy: 0.9704 - val_loss: 0.0947 - val_accuracy: 1.0000\n",
      "Epoch 83/175\n",
      "14/14 [==============================] - 0s 4ms/step - loss: 0.0739 - accuracy: 0.9704 - val_loss: 0.0939 - val_accuracy: 1.0000\n",
      "Epoch 84/175\n",
      "14/14 [==============================] - 0s 4ms/step - loss: 0.0746 - accuracy: 0.9556 - val_loss: 0.0626 - val_accuracy: 1.0000\n",
      "Epoch 85/175\n",
      "14/14 [==============================] - 0s 4ms/step - loss: 0.0801 - accuracy: 0.9704 - val_loss: 0.1237 - val_accuracy: 0.9333\n",
      "Epoch 86/175\n",
      "14/14 [==============================] - 0s 4ms/step - loss: 0.0791 - accuracy: 0.9481 - val_loss: 0.0686 - val_accuracy: 1.0000\n",
      "Epoch 87/175\n",
      "14/14 [==============================] - 0s 3ms/step - loss: 0.0724 - accuracy: 0.9704 - val_loss: 0.0647 - val_accuracy: 1.0000\n",
      "Epoch 88/175\n",
      "14/14 [==============================] - 0s 4ms/step - loss: 0.0707 - accuracy: 0.9852 - val_loss: 0.0927 - val_accuracy: 1.0000\n",
      "Epoch 89/175\n",
      "14/14 [==============================] - 0s 4ms/step - loss: 0.0680 - accuracy: 0.9704 - val_loss: 0.0619 - val_accuracy: 1.0000\n",
      "Epoch 90/175\n",
      "14/14 [==============================] - 0s 4ms/step - loss: 0.0704 - accuracy: 0.9852 - val_loss: 0.0710 - val_accuracy: 1.0000\n",
      "Epoch 91/175\n",
      "14/14 [==============================] - 0s 4ms/step - loss: 0.0711 - accuracy: 0.9778 - val_loss: 0.0737 - val_accuracy: 1.0000\n",
      "Epoch 92/175\n",
      "14/14 [==============================] - 0s 4ms/step - loss: 0.0682 - accuracy: 0.9852 - val_loss: 0.0792 - val_accuracy: 1.0000\n",
      "Epoch 93/175\n",
      "14/14 [==============================] - 0s 4ms/step - loss: 0.0668 - accuracy: 0.9852 - val_loss: 0.0800 - val_accuracy: 1.0000\n",
      "Epoch 94/175\n",
      "14/14 [==============================] - 0s 4ms/step - loss: 0.0669 - accuracy: 0.9852 - val_loss: 0.0583 - val_accuracy: 1.0000\n",
      "Epoch 95/175\n",
      "14/14 [==============================] - 0s 3ms/step - loss: 0.0730 - accuracy: 0.9630 - val_loss: 0.0771 - val_accuracy: 1.0000\n",
      "Epoch 96/175\n",
      "14/14 [==============================] - 0s 3ms/step - loss: 0.0781 - accuracy: 0.9704 - val_loss: 0.0826 - val_accuracy: 1.0000\n",
      "Epoch 97/175\n",
      "14/14 [==============================] - 0s 4ms/step - loss: 0.0782 - accuracy: 0.9556 - val_loss: 0.0741 - val_accuracy: 1.0000\n",
      "Epoch 98/175\n",
      "14/14 [==============================] - 0s 4ms/step - loss: 0.0770 - accuracy: 0.9704 - val_loss: 0.0630 - val_accuracy: 1.0000\n",
      "Epoch 99/175\n",
      "14/14 [==============================] - 0s 3ms/step - loss: 0.0738 - accuracy: 0.9778 - val_loss: 0.1149 - val_accuracy: 0.9333\n",
      "Epoch 100/175\n",
      "14/14 [==============================] - 0s 3ms/step - loss: 0.0699 - accuracy: 0.9778 - val_loss: 0.0794 - val_accuracy: 1.0000\n",
      "Epoch 101/175\n",
      "14/14 [==============================] - 0s 3ms/step - loss: 0.0679 - accuracy: 0.9852 - val_loss: 0.0633 - val_accuracy: 1.0000\n",
      "Epoch 102/175\n",
      "14/14 [==============================] - 0s 4ms/step - loss: 0.0724 - accuracy: 0.9630 - val_loss: 0.0752 - val_accuracy: 1.0000\n",
      "Epoch 103/175\n",
      "14/14 [==============================] - 0s 4ms/step - loss: 0.0684 - accuracy: 0.9778 - val_loss: 0.0427 - val_accuracy: 1.0000\n",
      "Epoch 104/175\n",
      "14/14 [==============================] - 0s 4ms/step - loss: 0.0661 - accuracy: 0.9778 - val_loss: 0.1070 - val_accuracy: 0.9333\n",
      "Epoch 105/175\n",
      "14/14 [==============================] - 0s 4ms/step - loss: 0.0762 - accuracy: 0.9556 - val_loss: 0.0842 - val_accuracy: 1.0000\n",
      "Epoch 106/175\n",
      "14/14 [==============================] - 0s 3ms/step - loss: 0.0712 - accuracy: 0.9852 - val_loss: 0.0399 - val_accuracy: 1.0000\n",
      "Epoch 107/175\n",
      "14/14 [==============================] - 0s 4ms/step - loss: 0.0677 - accuracy: 0.9778 - val_loss: 0.1063 - val_accuracy: 0.9333\n",
      "Epoch 108/175\n",
      "14/14 [==============================] - 0s 4ms/step - loss: 0.0696 - accuracy: 0.9852 - val_loss: 0.0428 - val_accuracy: 1.0000\n",
      "Epoch 109/175\n",
      "14/14 [==============================] - 0s 3ms/step - loss: 0.0686 - accuracy: 0.9852 - val_loss: 0.0913 - val_accuracy: 1.0000\n",
      "Epoch 110/175\n",
      "14/14 [==============================] - 0s 4ms/step - loss: 0.0938 - accuracy: 0.9778 - val_loss: 0.0936 - val_accuracy: 1.0000\n",
      "Epoch 111/175\n",
      "14/14 [==============================] - 0s 3ms/step - loss: 0.0927 - accuracy: 0.9481 - val_loss: 0.0409 - val_accuracy: 1.0000\n",
      "Epoch 112/175\n",
      "14/14 [==============================] - 0s 4ms/step - loss: 0.0934 - accuracy: 0.9704 - val_loss: 0.1055 - val_accuracy: 0.9333\n",
      "Epoch 113/175\n",
      "14/14 [==============================] - 0s 4ms/step - loss: 0.0718 - accuracy: 0.9630 - val_loss: 0.0678 - val_accuracy: 1.0000\n",
      "Epoch 114/175\n",
      "14/14 [==============================] - 0s 4ms/step - loss: 0.0703 - accuracy: 0.9704 - val_loss: 0.0498 - val_accuracy: 1.0000\n",
      "Epoch 115/175\n",
      "14/14 [==============================] - 0s 4ms/step - loss: 0.0710 - accuracy: 0.9704 - val_loss: 0.0916 - val_accuracy: 1.0000\n",
      "Epoch 116/175\n",
      "14/14 [==============================] - 0s 3ms/step - loss: 0.0677 - accuracy: 0.9852 - val_loss: 0.0576 - val_accuracy: 1.0000\n",
      "Epoch 117/175\n",
      "14/14 [==============================] - 0s 3ms/step - loss: 0.0729 - accuracy: 0.9704 - val_loss: 0.0510 - val_accuracy: 1.0000\n",
      "Epoch 118/175\n",
      "14/14 [==============================] - 0s 4ms/step - loss: 0.0687 - accuracy: 0.9704 - val_loss: 0.0681 - val_accuracy: 1.0000\n",
      "Epoch 119/175\n",
      "14/14 [==============================] - 0s 3ms/step - loss: 0.0691 - accuracy: 0.9778 - val_loss: 0.0721 - val_accuracy: 1.0000\n",
      "Epoch 120/175\n",
      "14/14 [==============================] - 0s 4ms/step - loss: 0.0667 - accuracy: 0.9778 - val_loss: 0.0432 - val_accuracy: 1.0000\n",
      "Epoch 121/175\n",
      "14/14 [==============================] - 0s 5ms/step - loss: 0.0612 - accuracy: 0.9778 - val_loss: 0.1103 - val_accuracy: 0.9333\n",
      "Epoch 122/175\n",
      "14/14 [==============================] - 0s 4ms/step - loss: 0.0837 - accuracy: 0.9778 - val_loss: 0.0427 - val_accuracy: 1.0000\n",
      "Epoch 123/175\n",
      "14/14 [==============================] - 0s 4ms/step - loss: 0.0730 - accuracy: 0.9704 - val_loss: 0.0716 - val_accuracy: 1.0000\n",
      "Epoch 124/175\n",
      "14/14 [==============================] - 0s 4ms/step - loss: 0.0806 - accuracy: 0.9704 - val_loss: 0.0709 - val_accuracy: 1.0000\n",
      "Epoch 125/175\n",
      "14/14 [==============================] - 0s 4ms/step - loss: 0.0750 - accuracy: 0.9704 - val_loss: 0.0378 - val_accuracy: 1.0000\n",
      "Epoch 126/175\n",
      "14/14 [==============================] - 0s 7ms/step - loss: 0.0658 - accuracy: 0.9926 - val_loss: 0.0692 - val_accuracy: 1.0000\n",
      "Epoch 127/175\n",
      "14/14 [==============================] - 0s 5ms/step - loss: 0.0634 - accuracy: 0.9852 - val_loss: 0.0573 - val_accuracy: 1.0000\n",
      "Epoch 128/175\n",
      "14/14 [==============================] - 0s 5ms/step - loss: 0.0669 - accuracy: 0.9778 - val_loss: 0.0698 - val_accuracy: 1.0000\n",
      "Epoch 129/175\n",
      "14/14 [==============================] - 0s 5ms/step - loss: 0.0650 - accuracy: 0.9852 - val_loss: 0.0842 - val_accuracy: 1.0000\n",
      "Epoch 130/175\n",
      "14/14 [==============================] - 0s 4ms/step - loss: 0.0653 - accuracy: 0.9704 - val_loss: 0.0544 - val_accuracy: 1.0000\n",
      "Epoch 131/175\n",
      "14/14 [==============================] - 0s 4ms/step - loss: 0.0653 - accuracy: 0.9778 - val_loss: 0.0707 - val_accuracy: 1.0000\n",
      "Epoch 132/175\n",
      "14/14 [==============================] - 0s 3ms/step - loss: 0.0652 - accuracy: 0.9778 - val_loss: 0.0636 - val_accuracy: 1.0000\n",
      "Epoch 133/175\n",
      "14/14 [==============================] - 0s 3ms/step - loss: 0.0663 - accuracy: 0.9630 - val_loss: 0.1068 - val_accuracy: 0.9333\n",
      "Epoch 134/175\n",
      "14/14 [==============================] - 0s 3ms/step - loss: 0.0644 - accuracy: 0.9778 - val_loss: 0.0528 - val_accuracy: 1.0000\n",
      "Epoch 135/175\n",
      "14/14 [==============================] - 0s 4ms/step - loss: 0.0764 - accuracy: 0.9704 - val_loss: 0.0615 - val_accuracy: 1.0000\n",
      "Epoch 136/175\n",
      "14/14 [==============================] - 0s 4ms/step - loss: 0.0892 - accuracy: 0.9481 - val_loss: 0.0767 - val_accuracy: 1.0000\n",
      "Epoch 137/175\n",
      "14/14 [==============================] - 0s 4ms/step - loss: 0.0772 - accuracy: 0.9704 - val_loss: 0.0355 - val_accuracy: 1.0000\n",
      "Epoch 138/175\n",
      "14/14 [==============================] - 0s 4ms/step - loss: 0.0682 - accuracy: 0.9630 - val_loss: 0.1111 - val_accuracy: 0.9333\n",
      "Epoch 139/175\n",
      "14/14 [==============================] - 0s 4ms/step - loss: 0.0641 - accuracy: 0.9778 - val_loss: 0.0436 - val_accuracy: 1.0000\n",
      "Epoch 140/175\n",
      "14/14 [==============================] - 0s 3ms/step - loss: 0.0631 - accuracy: 0.9778 - val_loss: 0.0569 - val_accuracy: 1.0000\n",
      "Epoch 141/175\n",
      "14/14 [==============================] - 0s 4ms/step - loss: 0.0636 - accuracy: 0.9778 - val_loss: 0.0993 - val_accuracy: 0.9333\n",
      "Epoch 142/175\n",
      "14/14 [==============================] - 0s 4ms/step - loss: 0.0654 - accuracy: 0.9778 - val_loss: 0.0415 - val_accuracy: 1.0000\n",
      "Epoch 143/175\n",
      "14/14 [==============================] - 0s 4ms/step - loss: 0.0619 - accuracy: 0.9852 - val_loss: 0.0796 - val_accuracy: 1.0000\n",
      "Epoch 144/175\n",
      "14/14 [==============================] - 0s 4ms/step - loss: 0.0628 - accuracy: 0.9778 - val_loss: 0.0658 - val_accuracy: 1.0000\n",
      "Epoch 145/175\n",
      "14/14 [==============================] - 0s 4ms/step - loss: 0.0712 - accuracy: 0.9630 - val_loss: 0.0401 - val_accuracy: 1.0000\n",
      "Epoch 146/175\n",
      "14/14 [==============================] - 0s 4ms/step - loss: 0.0644 - accuracy: 0.9778 - val_loss: 0.0453 - val_accuracy: 1.0000\n",
      "Epoch 147/175\n",
      "14/14 [==============================] - 0s 4ms/step - loss: 0.0714 - accuracy: 0.9704 - val_loss: 0.0400 - val_accuracy: 1.0000\n",
      "Epoch 148/175\n",
      "14/14 [==============================] - 0s 4ms/step - loss: 0.0677 - accuracy: 0.9778 - val_loss: 0.0736 - val_accuracy: 1.0000\n",
      "Epoch 149/175\n",
      "14/14 [==============================] - 0s 4ms/step - loss: 0.0680 - accuracy: 0.9778 - val_loss: 0.0778 - val_accuracy: 1.0000\n",
      "Epoch 150/175\n",
      "14/14 [==============================] - 0s 4ms/step - loss: 0.0652 - accuracy: 0.9852 - val_loss: 0.0504 - val_accuracy: 1.0000\n",
      "Epoch 151/175\n",
      "14/14 [==============================] - 0s 4ms/step - loss: 0.0690 - accuracy: 0.9481 - val_loss: 0.0583 - val_accuracy: 1.0000\n",
      "Epoch 152/175\n",
      "14/14 [==============================] - 0s 4ms/step - loss: 0.0687 - accuracy: 0.9778 - val_loss: 0.0620 - val_accuracy: 1.0000\n",
      "Epoch 153/175\n",
      "14/14 [==============================] - 0s 4ms/step - loss: 0.0602 - accuracy: 0.9778 - val_loss: 0.0535 - val_accuracy: 1.0000\n",
      "Epoch 154/175\n",
      "14/14 [==============================] - 0s 3ms/step - loss: 0.0639 - accuracy: 0.9778 - val_loss: 0.0743 - val_accuracy: 1.0000\n",
      "Epoch 155/175\n",
      "14/14 [==============================] - 0s 4ms/step - loss: 0.0724 - accuracy: 0.9704 - val_loss: 0.0366 - val_accuracy: 1.0000\n",
      "Epoch 156/175\n",
      "14/14 [==============================] - 0s 3ms/step - loss: 0.0744 - accuracy: 0.9704 - val_loss: 0.0612 - val_accuracy: 1.0000\n",
      "Epoch 157/175\n",
      "14/14 [==============================] - 0s 4ms/step - loss: 0.0615 - accuracy: 0.9852 - val_loss: 0.0616 - val_accuracy: 1.0000\n",
      "Epoch 158/175\n",
      "14/14 [==============================] - 0s 4ms/step - loss: 0.0630 - accuracy: 0.9778 - val_loss: 0.0679 - val_accuracy: 1.0000\n",
      "Epoch 159/175\n",
      "14/14 [==============================] - 0s 4ms/step - loss: 0.0636 - accuracy: 0.9852 - val_loss: 0.0671 - val_accuracy: 1.0000\n",
      "Epoch 160/175\n",
      "14/14 [==============================] - 0s 3ms/step - loss: 0.0720 - accuracy: 0.9630 - val_loss: 0.0330 - val_accuracy: 1.0000\n",
      "Epoch 161/175\n",
      "14/14 [==============================] - 0s 4ms/step - loss: 0.0788 - accuracy: 0.9778 - val_loss: 0.0517 - val_accuracy: 1.0000\n",
      "Epoch 162/175\n",
      "14/14 [==============================] - 0s 4ms/step - loss: 0.0634 - accuracy: 0.9852 - val_loss: 0.0536 - val_accuracy: 1.0000\n",
      "Epoch 163/175\n",
      "14/14 [==============================] - 0s 4ms/step - loss: 0.0633 - accuracy: 0.9704 - val_loss: 0.0642 - val_accuracy: 1.0000\n",
      "Epoch 164/175\n",
      "14/14 [==============================] - 0s 4ms/step - loss: 0.0671 - accuracy: 0.9778 - val_loss: 0.0545 - val_accuracy: 1.0000\n",
      "Epoch 165/175\n",
      "14/14 [==============================] - 0s 4ms/step - loss: 0.0995 - accuracy: 0.9407 - val_loss: 0.0356 - val_accuracy: 1.0000\n",
      "Epoch 166/175\n",
      "14/14 [==============================] - 0s 3ms/step - loss: 0.0689 - accuracy: 0.9778 - val_loss: 0.0370 - val_accuracy: 1.0000\n",
      "Epoch 167/175\n",
      "14/14 [==============================] - 0s 3ms/step - loss: 0.0631 - accuracy: 0.9778 - val_loss: 0.0594 - val_accuracy: 1.0000\n",
      "Epoch 168/175\n",
      "14/14 [==============================] - 0s 3ms/step - loss: 0.0655 - accuracy: 0.9778 - val_loss: 0.0655 - val_accuracy: 1.0000\n",
      "Epoch 169/175\n",
      "14/14 [==============================] - 0s 3ms/step - loss: 0.0617 - accuracy: 0.9852 - val_loss: 0.0547 - val_accuracy: 1.0000\n",
      "Epoch 170/175\n",
      "14/14 [==============================] - 0s 4ms/step - loss: 0.0648 - accuracy: 0.9778 - val_loss: 0.0552 - val_accuracy: 1.0000\n",
      "Epoch 171/175\n",
      "14/14 [==============================] - 0s 4ms/step - loss: 0.0607 - accuracy: 0.9852 - val_loss: 0.0805 - val_accuracy: 1.0000\n",
      "Epoch 172/175\n",
      "14/14 [==============================] - 0s 4ms/step - loss: 0.0711 - accuracy: 0.9778 - val_loss: 0.0487 - val_accuracy: 1.0000\n",
      "Epoch 173/175\n"
     ]
    },
    {
     "name": "stdout",
     "output_type": "stream",
     "text": [
      "14/14 [==============================] - 0s 4ms/step - loss: 0.0695 - accuracy: 0.9704 - val_loss: 0.0321 - val_accuracy: 1.0000\n",
      "Epoch 174/175\n",
      "14/14 [==============================] - 0s 4ms/step - loss: 0.0730 - accuracy: 0.9778 - val_loss: 0.0636 - val_accuracy: 1.0000\n",
      "Epoch 175/175\n",
      "14/14 [==============================] - 0s 4ms/step - loss: 0.0760 - accuracy: 0.9704 - val_loss: 0.0365 - val_accuracy: 1.0000\n"
     ]
    }
   ],
   "source": [
    "import pandas\n",
    "import matplotlib.pyplot as plt  \n",
    "from tensorflow.keras.layers import Dense\n",
    "from tensorflow.keras.models import Sequential\n",
    "from tensorflow.keras.utils import to_categorical\n",
    "from sklearn.preprocessing import LabelEncoder\n",
    "\n",
    "dataframe = pandas.read_csv(\"iris.csv\", header=None)\n",
    "dataset = dataframe.values\n",
    "X = dataset[:,0:4].astype(float)\n",
    "Y = dataset[:,4]\n",
    "\n",
    "encoder = LabelEncoder()\n",
    "encoder.fit(Y)\n",
    "encoded_Y = encoder.transform(Y)\n",
    "dummy_y = to_categorical(encoded_Y)\n",
    "\n",
    "model = Sequential()\n",
    "model.add(Dense(15, activation='relu'))\n",
    "model.add(Dense(15, activation='relu'))\n",
    "model.add(Dense(15, activation='relu'))\n",
    "model.add(Dense(3, activation='softmax'))\n",
    "\n",
    "model.compile(optimizer='adam',loss='categorical_crossentropy', metrics=['accuracy'])\n",
    "\n",
    "f = model.fit(X, dummy_y, epochs=175, batch_size=10, validation_split=0.1)"
   ]
  },
  {
   "cell_type": "code",
   "execution_count": 13,
   "id": "a25e70a6",
   "metadata": {},
   "outputs": [
    {
     "data": {
      "text/plain": [
       "<matplotlib.legend.Legend at 0x208e3ba6760>"
      ]
     },
     "execution_count": 13,
     "metadata": {},
     "output_type": "execute_result"
    },
    {
     "data": {
      "image/png": "[encoded data removed]",
      "text/plain": [
       "<Figure size 432x288 with 1 Axes>"
      ]
     },
     "metadata": {
      "needs_background": "light"
     },
     "output_type": "display_data"
    }
   ],
   "source": [
    "plt.plot(f.history['accuracy'], color=('green'))\n",
    "plt.plot(f.history['val_accuracy'], color=('red'))\n",
    "plt.title('График точности',fontsize=12)\n",
    "plt.ylabel('Точность',fontsize=12)\n",
    "plt.xlabel('Количество эпох',fontsize=12)\n",
    "plt.legend(['Обучение','Тестирование'],fontsize=12)"
   ]
  },
  {
   "cell_type": "code",
   "execution_count": 14,
   "id": "a9b45d81",
   "metadata": {},
   "outputs": [
    {
     "data": {
      "text/plain": [
       "<matplotlib.legend.Legend at 0x208e3ce2760>"
      ]
     },
     "execution_count": 14,
     "metadata": {},
     "output_type": "execute_result"
    },
    {
     "data": {
      "image/png": "[encoded data removed]",
      "text/plain": [
       "<Figure size 432x288 with 1 Axes>"
      ]
     },
     "metadata": {
      "needs_background": "light"
     },
     "output_type": "display_data"
    }
   ],
   "source": [
    "plt.plot(f.history['loss'], color=('green'))\n",
    "plt.plot(f.history['val_loss'], color=('red'))\n",
    "plt.title('График потерь',fontsize=12)\n",
    "plt.ylabel('Потери',fontsize=12)\n",
    "plt.xlabel('Количество эпох',fontsize=12)\n",
    "plt.legend(['Обучение','Тестирование'],fontsize=12)"
   ]
  },
  {
   "cell_type": "markdown",
   "id": "997970d5",
   "metadata": {},
   "source": [
    "### Выбор наилучшей модели"
   ]
  },
  {
   "cell_type": "markdown",
   "id": "2de985a3",
   "metadata": {},
   "source": [
    "Первая модель: loss: 0.1831 - accuracy: 0.9556 - val_loss: 0.3931 - val_accuracy: 0.9333\n",
    "Вторая модель: loss: 0.1031 - accuracy: 0.9704 - val_loss: 0.1482 - val_accuracy: 1.0000\n",
    "Третья модель: loss: 0.0760 - accuracy: 0.9704 - val_loss: 0.0365 - val_accuracy: 1.0000\n",
    "Следовательно, третья модель является наилучшей."
   ]
  },
  {
   "cell_type": "markdown",
   "id": "d451ad4d",
   "metadata": {},
   "source": [
    "### Вывод"
   ]
  },
  {
   "cell_type": "markdown",
   "id": "0fea7da2",
   "metadata": {},
   "source": [
    "В ходе лабораторной работы была реализована классификация сортов растения ирис (Iris Setosa - 0, Iris Versicolour - 1, Iris\n",
    "Virginica - 2) по четырем признакам: размерам пестиков и тычинок его цветков."
   ]
  }
 ],
 "metadata": {
  "kernelspec": {
   "display_name": "Python 3 (ipykernel)",
   "language": "python",
   "name": "python3"
  },
  "language_info": {
   "codemirror_mode": {
    "name": "ipython",
    "version": 3
   },
   "file_extension": ".py",
   "mimetype": "text/x-python",
   "name": "python",
   "nbconvert_exporter": "python",
   "pygments_lexer": "ipython3",
   "version": "3.9.7"
  }
 },
 "nbformat": 4,
 "nbformat_minor": 5
}
